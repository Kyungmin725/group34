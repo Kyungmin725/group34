{
 "cells": [
  {
   "cell_type": "code",
   "execution_count": 3,
   "metadata": {},
   "outputs": [
    {
     "name": "stderr",
     "output_type": "stream",
     "text": [
      "── \u001b[1mAttaching packages\u001b[22m ─────────────────────────────────────── tidyverse 1.3.0 ──\n",
      "\n",
      "\u001b[32m✔\u001b[39m \u001b[34mggplot2\u001b[39m 3.3.2     \u001b[32m✔\u001b[39m \u001b[34mpurrr  \u001b[39m 0.3.4\n",
      "\u001b[32m✔\u001b[39m \u001b[34mtibble \u001b[39m 3.0.3     \u001b[32m✔\u001b[39m \u001b[34mdplyr  \u001b[39m 1.0.2\n",
      "\u001b[32m✔\u001b[39m \u001b[34mtidyr  \u001b[39m 1.1.2     \u001b[32m✔\u001b[39m \u001b[34mstringr\u001b[39m 1.4.0\n",
      "\u001b[32m✔\u001b[39m \u001b[34mreadr  \u001b[39m 1.3.1     \u001b[32m✔\u001b[39m \u001b[34mforcats\u001b[39m 0.5.0\n",
      "\n",
      "Warning message:\n",
      "“package ‘ggplot2’ was built under R version 4.0.1”\n",
      "Warning message:\n",
      "“package ‘tibble’ was built under R version 4.0.2”\n",
      "Warning message:\n",
      "“package ‘tidyr’ was built under R version 4.0.2”\n",
      "Warning message:\n",
      "“package ‘dplyr’ was built under R version 4.0.2”\n",
      "── \u001b[1mConflicts\u001b[22m ────────────────────────────────────────── tidyverse_conflicts() ──\n",
      "\u001b[31m✖\u001b[39m \u001b[34mdplyr\u001b[39m::\u001b[32mfilter()\u001b[39m masks \u001b[34mstats\u001b[39m::filter()\n",
      "\u001b[31m✖\u001b[39m \u001b[34mdplyr\u001b[39m::\u001b[32mlag()\u001b[39m    masks \u001b[34mstats\u001b[39m::lag()\n",
      "\n",
      "Warning message:\n",
      "“package ‘tidymodels’ was built under R version 4.0.2”\n",
      "── \u001b[1mAttaching packages\u001b[22m ────────────────────────────────────── tidymodels 0.1.1 ──\n",
      "\n",
      "\u001b[32m✔\u001b[39m \u001b[34mbroom    \u001b[39m 0.7.0      \u001b[32m✔\u001b[39m \u001b[34mrecipes  \u001b[39m 0.1.13\n",
      "\u001b[32m✔\u001b[39m \u001b[34mdials    \u001b[39m 0.0.9      \u001b[32m✔\u001b[39m \u001b[34mrsample  \u001b[39m 0.0.7 \n",
      "\u001b[32m✔\u001b[39m \u001b[34minfer    \u001b[39m 0.5.4      \u001b[32m✔\u001b[39m \u001b[34mtune     \u001b[39m 0.1.1 \n",
      "\u001b[32m✔\u001b[39m \u001b[34mmodeldata\u001b[39m 0.0.2      \u001b[32m✔\u001b[39m \u001b[34mworkflows\u001b[39m 0.2.0 \n",
      "\u001b[32m✔\u001b[39m \u001b[34mparsnip  \u001b[39m 0.1.3      \u001b[32m✔\u001b[39m \u001b[34myardstick\u001b[39m 0.0.7 \n",
      "\n",
      "Warning message:\n",
      "“package ‘broom’ was built under R version 4.0.2”\n",
      "Warning message:\n",
      "“package ‘dials’ was built under R version 4.0.2”\n",
      "Warning message:\n",
      "“package ‘infer’ was built under R version 4.0.3”\n",
      "Warning message:\n",
      "“package ‘modeldata’ was built under R version 4.0.1”\n",
      "Warning message:\n",
      "“package ‘parsnip’ was built under R version 4.0.2”\n",
      "Warning message:\n",
      "“package ‘recipes’ was built under R version 4.0.1”\n",
      "Warning message:\n",
      "“package ‘tune’ was built under R version 4.0.2”\n",
      "Warning message:\n",
      "“package ‘workflows’ was built under R version 4.0.2”\n",
      "Warning message:\n",
      "“package ‘yardstick’ was built under R version 4.0.2”\n",
      "── \u001b[1mConflicts\u001b[22m ───────────────────────────────────────── tidymodels_conflicts() ──\n",
      "\u001b[31m✖\u001b[39m \u001b[34mscales\u001b[39m::\u001b[32mdiscard()\u001b[39m masks \u001b[34mpurrr\u001b[39m::discard()\n",
      "\u001b[31m✖\u001b[39m \u001b[34mdplyr\u001b[39m::\u001b[32mfilter()\u001b[39m   masks \u001b[34mstats\u001b[39m::filter()\n",
      "\u001b[31m✖\u001b[39m \u001b[34mrecipes\u001b[39m::\u001b[32mfixed()\u001b[39m  masks \u001b[34mstringr\u001b[39m::fixed()\n",
      "\u001b[31m✖\u001b[39m \u001b[34mdplyr\u001b[39m::\u001b[32mlag()\u001b[39m      masks \u001b[34mstats\u001b[39m::lag()\n",
      "\u001b[31m✖\u001b[39m \u001b[34myardstick\u001b[39m::\u001b[32mspec()\u001b[39m masks \u001b[34mreadr\u001b[39m::spec()\n",
      "\u001b[31m✖\u001b[39m \u001b[34mrecipes\u001b[39m::\u001b[32mstep()\u001b[39m   masks \u001b[34mstats\u001b[39m::step()\n",
      "\n"
     ]
    }
   ],
   "source": [
    "library(tidyverse)\n",
    "library(repr)\n",
    "library(tidymodels)\n",
    "options(repr.matrix.max.rows = 6)"
   ]
  },
  {
   "cell_type": "markdown",
   "metadata": {},
   "source": [
    "Introduction\n",
    "    Relevant background on topic\n",
    "        This data was gathered from a direct marketing campaign of a Portuguese baking institution.           The bank collected information from their clients over the phone, and more than one contact to  the same client was required. \n",
    "    State question we are trying to answer \n",
    "        Initial question: Which variable most influences whether or not someone will subscribe to a term deposit.\n",
    "        Which demographic of a client is best (i.e. who is the most likely to subscribe a term deposit)\n",
    "    Identify and describe dataset\n",
    "        The Bank Marketing Dataset discusses multiple characteristics of clients of a bank in hopes to predict whether they will subscribe to a term deposit. Variables in the set include age, job, education, marital status, and more. \n",
    "\n",
    "Preliminary Exploratory Data Analysis\n",
    "    Show that dataset can be read from web into R\n",
    "        library(tidyverse)\n",
    "        Bank_marketing <- read_csv(“...”)\n",
    "    Put data into tidy format\n",
    "        The data we used is already tidy when downloaded\n",
    "    Using only training data\n",
    "        Summarize data in at least one table\n",
    "        Visualize data with at least one plot \n",
    "        \n",
    "Methods\n",
    "    Explain how you’ll conduct data analysis and which variables/columns you’ll use\n",
    "        Variables to consider: age, balance, job, education, housing loan, personal loan\n",
    "    Describe at least one way that you’ll visualize results\n",
    "        Use scatter point graphs with different point colors\n",
    "\n",
    "Expected Outcomes & Significance\n",
    "    What do you expect to find\n",
    "        Use the variables we chose to predict whether a client will subscribe to a term deposit, and therefore find which variable influenced the will of a client on subscribing a term deposit the most. After finishing the model we will check our predictions with the real data to see how accurate our predictions are.\n",
    "    What impact will your findings have\n",
    "        We can use this data to predict groups who are more interested in the bank promotion. So we can target them when the bank decides to do marketing strategy.\n",
    "    What future questions could this lead to\n",
    "        Are there any other predicates to add for choosing the strategy?\n",
    "        Some of predicates will disturb this data results\n",
    "        How do different variables intersect with one another to impact whether or not someone will subscribe to a bank deposit\n",
    "        Is there a better model to predict this data?\n"
   ]
  },
  {
   "cell_type": "code",
   "execution_count": 4,
   "metadata": {},
   "outputs": [
    {
     "name": "stderr",
     "output_type": "stream",
     "text": [
      "Using ',' as decimal and '.' as grouping mark. Use read_delim() for more control.\n",
      "\n",
      "Parsed with column specification:\n",
      "cols(\n",
      "  age = \u001b[32mcol_double()\u001b[39m,\n",
      "  job = \u001b[31mcol_character()\u001b[39m,\n",
      "  marital = \u001b[31mcol_character()\u001b[39m,\n",
      "  education = \u001b[31mcol_character()\u001b[39m,\n",
      "  default = \u001b[31mcol_character()\u001b[39m,\n",
      "  balance = \u001b[32mcol_double()\u001b[39m,\n",
      "  housing = \u001b[31mcol_character()\u001b[39m,\n",
      "  loan = \u001b[31mcol_character()\u001b[39m,\n",
      "  contact = \u001b[31mcol_character()\u001b[39m,\n",
      "  day = \u001b[32mcol_double()\u001b[39m,\n",
      "  month = \u001b[31mcol_character()\u001b[39m,\n",
      "  duration = \u001b[32mcol_double()\u001b[39m,\n",
      "  campaign = \u001b[32mcol_double()\u001b[39m,\n",
      "  pdays = \u001b[32mcol_double()\u001b[39m,\n",
      "  previous = \u001b[32mcol_double()\u001b[39m,\n",
      "  poutcome = \u001b[31mcol_character()\u001b[39m,\n",
      "  y = \u001b[31mcol_character()\u001b[39m\n",
      ")\n",
      "\n"
     ]
    },
    {
     "data": {
      "text/html": [
       "<table>\n",
       "<caption>A spec_tbl_df: 4521 × 17</caption>\n",
       "<thead>\n",
       "\t<tr><th scope=col>age</th><th scope=col>job</th><th scope=col>marital</th><th scope=col>education</th><th scope=col>default</th><th scope=col>balance</th><th scope=col>housing</th><th scope=col>loan</th><th scope=col>contact</th><th scope=col>day</th><th scope=col>month</th><th scope=col>duration</th><th scope=col>campaign</th><th scope=col>pdays</th><th scope=col>previous</th><th scope=col>poutcome</th><th scope=col>y</th></tr>\n",
       "\t<tr><th scope=col>&lt;dbl&gt;</th><th scope=col>&lt;chr&gt;</th><th scope=col>&lt;chr&gt;</th><th scope=col>&lt;chr&gt;</th><th scope=col>&lt;chr&gt;</th><th scope=col>&lt;dbl&gt;</th><th scope=col>&lt;chr&gt;</th><th scope=col>&lt;chr&gt;</th><th scope=col>&lt;chr&gt;</th><th scope=col>&lt;dbl&gt;</th><th scope=col>&lt;chr&gt;</th><th scope=col>&lt;dbl&gt;</th><th scope=col>&lt;dbl&gt;</th><th scope=col>&lt;dbl&gt;</th><th scope=col>&lt;dbl&gt;</th><th scope=col>&lt;chr&gt;</th><th scope=col>&lt;chr&gt;</th></tr>\n",
       "</thead>\n",
       "<tbody>\n",
       "\t<tr><td>30</td><td>unemployed</td><td>married</td><td>primary  </td><td>no</td><td>1787</td><td>no </td><td>no </td><td>cellular</td><td>19</td><td>oct</td><td> 79</td><td>1</td><td> -1</td><td>0</td><td>unknown</td><td>no</td></tr>\n",
       "\t<tr><td>33</td><td>services  </td><td>married</td><td>secondary</td><td>no</td><td>4789</td><td>yes</td><td>yes</td><td>cellular</td><td>11</td><td>may</td><td>220</td><td>1</td><td>339</td><td>4</td><td>failure</td><td>no</td></tr>\n",
       "\t<tr><td>35</td><td>management</td><td>single </td><td>tertiary </td><td>no</td><td>1350</td><td>yes</td><td>no </td><td>cellular</td><td>16</td><td>apr</td><td>185</td><td>1</td><td>330</td><td>1</td><td>failure</td><td>no</td></tr>\n",
       "\t<tr><td>⋮</td><td>⋮</td><td>⋮</td><td>⋮</td><td>⋮</td><td>⋮</td><td>⋮</td><td>⋮</td><td>⋮</td><td>⋮</td><td>⋮</td><td>⋮</td><td>⋮</td><td>⋮</td><td>⋮</td><td>⋮</td><td>⋮</td></tr>\n",
       "\t<tr><td>57</td><td>technician  </td><td>married</td><td>secondary</td><td>no</td><td> 295</td><td>no </td><td>no </td><td>cellular</td><td>19</td><td>aug</td><td>151</td><td>11</td><td> -1</td><td>0</td><td>unknown</td><td>no</td></tr>\n",
       "\t<tr><td>28</td><td>blue-collar </td><td>married</td><td>secondary</td><td>no</td><td>1137</td><td>no </td><td>no </td><td>cellular</td><td> 6</td><td>feb</td><td>129</td><td> 4</td><td>211</td><td>3</td><td>other  </td><td>no</td></tr>\n",
       "\t<tr><td>44</td><td>entrepreneur</td><td>single </td><td>tertiary </td><td>no</td><td>1136</td><td>yes</td><td>yes</td><td>cellular</td><td> 3</td><td>apr</td><td>345</td><td> 2</td><td>249</td><td>7</td><td>other  </td><td>no</td></tr>\n",
       "</tbody>\n",
       "</table>\n"
      ],
      "text/latex": [
       "A spec\\_tbl\\_df: 4521 × 17\n",
       "\\begin{tabular}{lllllllllllllllll}\n",
       " age & job & marital & education & default & balance & housing & loan & contact & day & month & duration & campaign & pdays & previous & poutcome & y\\\\\n",
       " <dbl> & <chr> & <chr> & <chr> & <chr> & <dbl> & <chr> & <chr> & <chr> & <dbl> & <chr> & <dbl> & <dbl> & <dbl> & <dbl> & <chr> & <chr>\\\\\n",
       "\\hline\n",
       "\t 30 & unemployed & married & primary   & no & 1787 & no  & no  & cellular & 19 & oct &  79 & 1 &  -1 & 0 & unknown & no\\\\\n",
       "\t 33 & services   & married & secondary & no & 4789 & yes & yes & cellular & 11 & may & 220 & 1 & 339 & 4 & failure & no\\\\\n",
       "\t 35 & management & single  & tertiary  & no & 1350 & yes & no  & cellular & 16 & apr & 185 & 1 & 330 & 1 & failure & no\\\\\n",
       "\t ⋮ & ⋮ & ⋮ & ⋮ & ⋮ & ⋮ & ⋮ & ⋮ & ⋮ & ⋮ & ⋮ & ⋮ & ⋮ & ⋮ & ⋮ & ⋮ & ⋮\\\\\n",
       "\t 57 & technician   & married & secondary & no &  295 & no  & no  & cellular & 19 & aug & 151 & 11 &  -1 & 0 & unknown & no\\\\\n",
       "\t 28 & blue-collar  & married & secondary & no & 1137 & no  & no  & cellular &  6 & feb & 129 &  4 & 211 & 3 & other   & no\\\\\n",
       "\t 44 & entrepreneur & single  & tertiary  & no & 1136 & yes & yes & cellular &  3 & apr & 345 &  2 & 249 & 7 & other   & no\\\\\n",
       "\\end{tabular}\n"
      ],
      "text/markdown": [
       "\n",
       "A spec_tbl_df: 4521 × 17\n",
       "\n",
       "| age &lt;dbl&gt; | job &lt;chr&gt; | marital &lt;chr&gt; | education &lt;chr&gt; | default &lt;chr&gt; | balance &lt;dbl&gt; | housing &lt;chr&gt; | loan &lt;chr&gt; | contact &lt;chr&gt; | day &lt;dbl&gt; | month &lt;chr&gt; | duration &lt;dbl&gt; | campaign &lt;dbl&gt; | pdays &lt;dbl&gt; | previous &lt;dbl&gt; | poutcome &lt;chr&gt; | y &lt;chr&gt; |\n",
       "|---|---|---|---|---|---|---|---|---|---|---|---|---|---|---|---|---|\n",
       "| 30 | unemployed | married | primary   | no | 1787 | no  | no  | cellular | 19 | oct |  79 | 1 |  -1 | 0 | unknown | no |\n",
       "| 33 | services   | married | secondary | no | 4789 | yes | yes | cellular | 11 | may | 220 | 1 | 339 | 4 | failure | no |\n",
       "| 35 | management | single  | tertiary  | no | 1350 | yes | no  | cellular | 16 | apr | 185 | 1 | 330 | 1 | failure | no |\n",
       "| ⋮ | ⋮ | ⋮ | ⋮ | ⋮ | ⋮ | ⋮ | ⋮ | ⋮ | ⋮ | ⋮ | ⋮ | ⋮ | ⋮ | ⋮ | ⋮ | ⋮ |\n",
       "| 57 | technician   | married | secondary | no |  295 | no  | no  | cellular | 19 | aug | 151 | 11 |  -1 | 0 | unknown | no |\n",
       "| 28 | blue-collar  | married | secondary | no | 1137 | no  | no  | cellular |  6 | feb | 129 |  4 | 211 | 3 | other   | no |\n",
       "| 44 | entrepreneur | single  | tertiary  | no | 1136 | yes | yes | cellular |  3 | apr | 345 |  2 | 249 | 7 | other   | no |\n",
       "\n"
      ],
      "text/plain": [
       "     age job          marital education default balance housing loan contact \n",
       "1    30  unemployed   married primary   no      1787    no      no   cellular\n",
       "2    33  services     married secondary no      4789    yes     yes  cellular\n",
       "3    35  management   single  tertiary  no      1350    yes     no   cellular\n",
       "⋮    ⋮   ⋮            ⋮       ⋮         ⋮       ⋮       ⋮       ⋮    ⋮       \n",
       "4519 57  technician   married secondary no       295    no      no   cellular\n",
       "4520 28  blue-collar  married secondary no      1137    no      no   cellular\n",
       "4521 44  entrepreneur single  tertiary  no      1136    yes     yes  cellular\n",
       "     day month duration campaign pdays previous poutcome y \n",
       "1    19  oct    79      1         -1   0        unknown  no\n",
       "2    11  may   220      1        339   4        failure  no\n",
       "3    16  apr   185      1        330   1        failure  no\n",
       "⋮    ⋮   ⋮     ⋮        ⋮        ⋮     ⋮        ⋮        ⋮ \n",
       "4519 19  aug   151      11        -1   0        unknown  no\n",
       "4520  6  feb   129       4       211   3        other    no\n",
       "4521  3  apr   345       2       249   7        other    no"
      ]
     },
     "metadata": {},
     "output_type": "display_data"
    }
   ],
   "source": [
    "temp <- tempfile()\n",
    "temp2 <- tempfile()\n",
    "\n",
    "url <- \"https://archive.ics.uci.edu/ml/machine-learning-databases/00222/bank.zip\"\n",
    "\n",
    "download.file(url, temp)\n",
    "unzip(zipfile = temp, exdir = temp2)\n",
    "#bank_data <- read_csv(file.path(temp2, \"bank.csv\"))\n",
    "bank_data <- read_csv2(file.path(temp2, \"bank.csv\"))\n",
    "unlink(c(temp, temp2))\n",
    "bank_data"
   ]
  },
  {
   "cell_type": "code",
   "execution_count": 5,
   "metadata": {},
   "outputs": [
    {
     "data": {
      "text/html": [
       "<table>\n",
       "<caption>A tibble: 3392 × 17</caption>\n",
       "<thead>\n",
       "\t<tr><th scope=col>age</th><th scope=col>job</th><th scope=col>marital</th><th scope=col>education</th><th scope=col>default</th><th scope=col>balance</th><th scope=col>housing</th><th scope=col>loan</th><th scope=col>contact</th><th scope=col>day</th><th scope=col>month</th><th scope=col>duration</th><th scope=col>campaign</th><th scope=col>pdays</th><th scope=col>previous</th><th scope=col>poutcome</th><th scope=col>y</th></tr>\n",
       "\t<tr><th scope=col>&lt;dbl&gt;</th><th scope=col>&lt;chr&gt;</th><th scope=col>&lt;chr&gt;</th><th scope=col>&lt;chr&gt;</th><th scope=col>&lt;chr&gt;</th><th scope=col>&lt;dbl&gt;</th><th scope=col>&lt;chr&gt;</th><th scope=col>&lt;chr&gt;</th><th scope=col>&lt;chr&gt;</th><th scope=col>&lt;dbl&gt;</th><th scope=col>&lt;chr&gt;</th><th scope=col>&lt;dbl&gt;</th><th scope=col>&lt;dbl&gt;</th><th scope=col>&lt;dbl&gt;</th><th scope=col>&lt;dbl&gt;</th><th scope=col>&lt;chr&gt;</th><th scope=col>&lt;chr&gt;</th></tr>\n",
       "</thead>\n",
       "<tbody>\n",
       "\t<tr><td>30</td><td>unemployed</td><td>married</td><td>primary </td><td>no</td><td>1787</td><td>no </td><td>no </td><td>cellular</td><td>19</td><td>oct</td><td> 79</td><td>1</td><td> -1</td><td>0</td><td>unknown</td><td>no</td></tr>\n",
       "\t<tr><td>35</td><td>management</td><td>single </td><td>tertiary</td><td>no</td><td>1350</td><td>yes</td><td>no </td><td>cellular</td><td>16</td><td>apr</td><td>185</td><td>1</td><td>330</td><td>1</td><td>failure</td><td>no</td></tr>\n",
       "\t<tr><td>30</td><td>management</td><td>married</td><td>tertiary</td><td>no</td><td>1476</td><td>yes</td><td>yes</td><td>unknown </td><td> 3</td><td>jun</td><td>199</td><td>4</td><td> -1</td><td>0</td><td>unknown</td><td>no</td></tr>\n",
       "\t<tr><td>⋮</td><td>⋮</td><td>⋮</td><td>⋮</td><td>⋮</td><td>⋮</td><td>⋮</td><td>⋮</td><td>⋮</td><td>⋮</td><td>⋮</td><td>⋮</td><td>⋮</td><td>⋮</td><td>⋮</td><td>⋮</td><td>⋮</td></tr>\n",
       "\t<tr><td>33</td><td>services     </td><td>married</td><td>secondary</td><td>no </td><td> -333</td><td>yes</td><td>no </td><td>cellular</td><td>30</td><td>jul</td><td>329</td><td>5</td><td> -1</td><td>0</td><td>unknown</td><td>no</td></tr>\n",
       "\t<tr><td>57</td><td>self-employed</td><td>married</td><td>tertiary </td><td>yes</td><td>-3313</td><td>yes</td><td>yes</td><td>unknown </td><td> 9</td><td>may</td><td>153</td><td>1</td><td> -1</td><td>0</td><td>unknown</td><td>no</td></tr>\n",
       "\t<tr><td>44</td><td>entrepreneur </td><td>single </td><td>tertiary </td><td>no </td><td> 1136</td><td>yes</td><td>yes</td><td>cellular</td><td> 3</td><td>apr</td><td>345</td><td>2</td><td>249</td><td>7</td><td>other  </td><td>no</td></tr>\n",
       "</tbody>\n",
       "</table>\n"
      ],
      "text/latex": [
       "A tibble: 3392 × 17\n",
       "\\begin{tabular}{lllllllllllllllll}\n",
       " age & job & marital & education & default & balance & housing & loan & contact & day & month & duration & campaign & pdays & previous & poutcome & y\\\\\n",
       " <dbl> & <chr> & <chr> & <chr> & <chr> & <dbl> & <chr> & <chr> & <chr> & <dbl> & <chr> & <dbl> & <dbl> & <dbl> & <dbl> & <chr> & <chr>\\\\\n",
       "\\hline\n",
       "\t 30 & unemployed & married & primary  & no & 1787 & no  & no  & cellular & 19 & oct &  79 & 1 &  -1 & 0 & unknown & no\\\\\n",
       "\t 35 & management & single  & tertiary & no & 1350 & yes & no  & cellular & 16 & apr & 185 & 1 & 330 & 1 & failure & no\\\\\n",
       "\t 30 & management & married & tertiary & no & 1476 & yes & yes & unknown  &  3 & jun & 199 & 4 &  -1 & 0 & unknown & no\\\\\n",
       "\t ⋮ & ⋮ & ⋮ & ⋮ & ⋮ & ⋮ & ⋮ & ⋮ & ⋮ & ⋮ & ⋮ & ⋮ & ⋮ & ⋮ & ⋮ & ⋮ & ⋮\\\\\n",
       "\t 33 & services      & married & secondary & no  &  -333 & yes & no  & cellular & 30 & jul & 329 & 5 &  -1 & 0 & unknown & no\\\\\n",
       "\t 57 & self-employed & married & tertiary  & yes & -3313 & yes & yes & unknown  &  9 & may & 153 & 1 &  -1 & 0 & unknown & no\\\\\n",
       "\t 44 & entrepreneur  & single  & tertiary  & no  &  1136 & yes & yes & cellular &  3 & apr & 345 & 2 & 249 & 7 & other   & no\\\\\n",
       "\\end{tabular}\n"
      ],
      "text/markdown": [
       "\n",
       "A tibble: 3392 × 17\n",
       "\n",
       "| age &lt;dbl&gt; | job &lt;chr&gt; | marital &lt;chr&gt; | education &lt;chr&gt; | default &lt;chr&gt; | balance &lt;dbl&gt; | housing &lt;chr&gt; | loan &lt;chr&gt; | contact &lt;chr&gt; | day &lt;dbl&gt; | month &lt;chr&gt; | duration &lt;dbl&gt; | campaign &lt;dbl&gt; | pdays &lt;dbl&gt; | previous &lt;dbl&gt; | poutcome &lt;chr&gt; | y &lt;chr&gt; |\n",
       "|---|---|---|---|---|---|---|---|---|---|---|---|---|---|---|---|---|\n",
       "| 30 | unemployed | married | primary  | no | 1787 | no  | no  | cellular | 19 | oct |  79 | 1 |  -1 | 0 | unknown | no |\n",
       "| 35 | management | single  | tertiary | no | 1350 | yes | no  | cellular | 16 | apr | 185 | 1 | 330 | 1 | failure | no |\n",
       "| 30 | management | married | tertiary | no | 1476 | yes | yes | unknown  |  3 | jun | 199 | 4 |  -1 | 0 | unknown | no |\n",
       "| ⋮ | ⋮ | ⋮ | ⋮ | ⋮ | ⋮ | ⋮ | ⋮ | ⋮ | ⋮ | ⋮ | ⋮ | ⋮ | ⋮ | ⋮ | ⋮ | ⋮ |\n",
       "| 33 | services      | married | secondary | no  |  -333 | yes | no  | cellular | 30 | jul | 329 | 5 |  -1 | 0 | unknown | no |\n",
       "| 57 | self-employed | married | tertiary  | yes | -3313 | yes | yes | unknown  |  9 | may | 153 | 1 |  -1 | 0 | unknown | no |\n",
       "| 44 | entrepreneur  | single  | tertiary  | no  |  1136 | yes | yes | cellular |  3 | apr | 345 | 2 | 249 | 7 | other   | no |\n",
       "\n"
      ],
      "text/plain": [
       "     age job           marital education default balance housing loan contact \n",
       "1    30  unemployed    married primary   no      1787    no      no   cellular\n",
       "2    35  management    single  tertiary  no      1350    yes     no   cellular\n",
       "3    30  management    married tertiary  no      1476    yes     yes  unknown \n",
       "⋮    ⋮   ⋮             ⋮       ⋮         ⋮       ⋮       ⋮       ⋮    ⋮       \n",
       "3390 33  services      married secondary no       -333   yes     no   cellular\n",
       "3391 57  self-employed married tertiary  yes     -3313   yes     yes  unknown \n",
       "3392 44  entrepreneur  single  tertiary  no       1136   yes     yes  cellular\n",
       "     day month duration campaign pdays previous poutcome y \n",
       "1    19  oct    79      1         -1   0        unknown  no\n",
       "2    16  apr   185      1        330   1        failure  no\n",
       "3     3  jun   199      4         -1   0        unknown  no\n",
       "⋮    ⋮   ⋮     ⋮        ⋮        ⋮     ⋮        ⋮        ⋮ \n",
       "3390 30  jul   329      5         -1   0        unknown  no\n",
       "3391  9  may   153      1         -1   0        unknown  no\n",
       "3392  3  apr   345      2        249   7        other    no"
      ]
     },
     "metadata": {},
     "output_type": "display_data"
    },
    {
     "data": {
      "text/html": [
       "<table>\n",
       "<caption>A tibble: 1129 × 17</caption>\n",
       "<thead>\n",
       "\t<tr><th scope=col>age</th><th scope=col>job</th><th scope=col>marital</th><th scope=col>education</th><th scope=col>default</th><th scope=col>balance</th><th scope=col>housing</th><th scope=col>loan</th><th scope=col>contact</th><th scope=col>day</th><th scope=col>month</th><th scope=col>duration</th><th scope=col>campaign</th><th scope=col>pdays</th><th scope=col>previous</th><th scope=col>poutcome</th><th scope=col>y</th></tr>\n",
       "\t<tr><th scope=col>&lt;dbl&gt;</th><th scope=col>&lt;chr&gt;</th><th scope=col>&lt;chr&gt;</th><th scope=col>&lt;chr&gt;</th><th scope=col>&lt;chr&gt;</th><th scope=col>&lt;dbl&gt;</th><th scope=col>&lt;chr&gt;</th><th scope=col>&lt;chr&gt;</th><th scope=col>&lt;chr&gt;</th><th scope=col>&lt;dbl&gt;</th><th scope=col>&lt;chr&gt;</th><th scope=col>&lt;dbl&gt;</th><th scope=col>&lt;dbl&gt;</th><th scope=col>&lt;dbl&gt;</th><th scope=col>&lt;dbl&gt;</th><th scope=col>&lt;chr&gt;</th><th scope=col>&lt;chr&gt;</th></tr>\n",
       "</thead>\n",
       "<tbody>\n",
       "\t<tr><td>33</td><td>services     </td><td>married</td><td>secondary</td><td>no</td><td>4789</td><td>yes</td><td>yes</td><td>cellular</td><td>11</td><td>may</td><td>220</td><td>1</td><td>339</td><td>4</td><td>failure</td><td>no</td></tr>\n",
       "\t<tr><td>36</td><td>self-employed</td><td>married</td><td>tertiary </td><td>no</td><td> 307</td><td>yes</td><td>no </td><td>cellular</td><td>14</td><td>may</td><td>341</td><td>1</td><td>330</td><td>2</td><td>other  </td><td>no</td></tr>\n",
       "\t<tr><td>41</td><td>entrepreneur </td><td>married</td><td>tertiary </td><td>no</td><td> 221</td><td>yes</td><td>no </td><td>unknown </td><td>14</td><td>may</td><td> 57</td><td>2</td><td> -1</td><td>0</td><td>unknown</td><td>no</td></tr>\n",
       "\t<tr><td>⋮</td><td>⋮</td><td>⋮</td><td>⋮</td><td>⋮</td><td>⋮</td><td>⋮</td><td>⋮</td><td>⋮</td><td>⋮</td><td>⋮</td><td>⋮</td><td>⋮</td><td>⋮</td><td>⋮</td><td>⋮</td><td>⋮</td></tr>\n",
       "\t<tr><td>49</td><td>blue-collar</td><td>married</td><td>secondary</td><td>no</td><td> 322</td><td>no</td><td>no</td><td>cellular</td><td>14</td><td>aug</td><td>356</td><td> 2</td><td> -1</td><td>0</td><td>unknown</td><td>no</td></tr>\n",
       "\t<tr><td>57</td><td>technician </td><td>married</td><td>secondary</td><td>no</td><td> 295</td><td>no</td><td>no</td><td>cellular</td><td>19</td><td>aug</td><td>151</td><td>11</td><td> -1</td><td>0</td><td>unknown</td><td>no</td></tr>\n",
       "\t<tr><td>28</td><td>blue-collar</td><td>married</td><td>secondary</td><td>no</td><td>1137</td><td>no</td><td>no</td><td>cellular</td><td> 6</td><td>feb</td><td>129</td><td> 4</td><td>211</td><td>3</td><td>other  </td><td>no</td></tr>\n",
       "</tbody>\n",
       "</table>\n"
      ],
      "text/latex": [
       "A tibble: 1129 × 17\n",
       "\\begin{tabular}{lllllllllllllllll}\n",
       " age & job & marital & education & default & balance & housing & loan & contact & day & month & duration & campaign & pdays & previous & poutcome & y\\\\\n",
       " <dbl> & <chr> & <chr> & <chr> & <chr> & <dbl> & <chr> & <chr> & <chr> & <dbl> & <chr> & <dbl> & <dbl> & <dbl> & <dbl> & <chr> & <chr>\\\\\n",
       "\\hline\n",
       "\t 33 & services      & married & secondary & no & 4789 & yes & yes & cellular & 11 & may & 220 & 1 & 339 & 4 & failure & no\\\\\n",
       "\t 36 & self-employed & married & tertiary  & no &  307 & yes & no  & cellular & 14 & may & 341 & 1 & 330 & 2 & other   & no\\\\\n",
       "\t 41 & entrepreneur  & married & tertiary  & no &  221 & yes & no  & unknown  & 14 & may &  57 & 2 &  -1 & 0 & unknown & no\\\\\n",
       "\t ⋮ & ⋮ & ⋮ & ⋮ & ⋮ & ⋮ & ⋮ & ⋮ & ⋮ & ⋮ & ⋮ & ⋮ & ⋮ & ⋮ & ⋮ & ⋮ & ⋮\\\\\n",
       "\t 49 & blue-collar & married & secondary & no &  322 & no & no & cellular & 14 & aug & 356 &  2 &  -1 & 0 & unknown & no\\\\\n",
       "\t 57 & technician  & married & secondary & no &  295 & no & no & cellular & 19 & aug & 151 & 11 &  -1 & 0 & unknown & no\\\\\n",
       "\t 28 & blue-collar & married & secondary & no & 1137 & no & no & cellular &  6 & feb & 129 &  4 & 211 & 3 & other   & no\\\\\n",
       "\\end{tabular}\n"
      ],
      "text/markdown": [
       "\n",
       "A tibble: 1129 × 17\n",
       "\n",
       "| age &lt;dbl&gt; | job &lt;chr&gt; | marital &lt;chr&gt; | education &lt;chr&gt; | default &lt;chr&gt; | balance &lt;dbl&gt; | housing &lt;chr&gt; | loan &lt;chr&gt; | contact &lt;chr&gt; | day &lt;dbl&gt; | month &lt;chr&gt; | duration &lt;dbl&gt; | campaign &lt;dbl&gt; | pdays &lt;dbl&gt; | previous &lt;dbl&gt; | poutcome &lt;chr&gt; | y &lt;chr&gt; |\n",
       "|---|---|---|---|---|---|---|---|---|---|---|---|---|---|---|---|---|\n",
       "| 33 | services      | married | secondary | no | 4789 | yes | yes | cellular | 11 | may | 220 | 1 | 339 | 4 | failure | no |\n",
       "| 36 | self-employed | married | tertiary  | no |  307 | yes | no  | cellular | 14 | may | 341 | 1 | 330 | 2 | other   | no |\n",
       "| 41 | entrepreneur  | married | tertiary  | no |  221 | yes | no  | unknown  | 14 | may |  57 | 2 |  -1 | 0 | unknown | no |\n",
       "| ⋮ | ⋮ | ⋮ | ⋮ | ⋮ | ⋮ | ⋮ | ⋮ | ⋮ | ⋮ | ⋮ | ⋮ | ⋮ | ⋮ | ⋮ | ⋮ | ⋮ |\n",
       "| 49 | blue-collar | married | secondary | no |  322 | no | no | cellular | 14 | aug | 356 |  2 |  -1 | 0 | unknown | no |\n",
       "| 57 | technician  | married | secondary | no |  295 | no | no | cellular | 19 | aug | 151 | 11 |  -1 | 0 | unknown | no |\n",
       "| 28 | blue-collar | married | secondary | no | 1137 | no | no | cellular |  6 | feb | 129 |  4 | 211 | 3 | other   | no |\n",
       "\n"
      ],
      "text/plain": [
       "     age job           marital education default balance housing loan contact \n",
       "1    33  services      married secondary no      4789    yes     yes  cellular\n",
       "2    36  self-employed married tertiary  no       307    yes     no   cellular\n",
       "3    41  entrepreneur  married tertiary  no       221    yes     no   unknown \n",
       "⋮    ⋮   ⋮             ⋮       ⋮         ⋮       ⋮       ⋮       ⋮    ⋮       \n",
       "1127 49  blue-collar   married secondary no       322    no      no   cellular\n",
       "1128 57  technician    married secondary no       295    no      no   cellular\n",
       "1129 28  blue-collar   married secondary no      1137    no      no   cellular\n",
       "     day month duration campaign pdays previous poutcome y \n",
       "1    11  may   220      1        339   4        failure  no\n",
       "2    14  may   341      1        330   2        other    no\n",
       "3    14  may    57      2         -1   0        unknown  no\n",
       "⋮    ⋮   ⋮     ⋮        ⋮        ⋮     ⋮        ⋮        ⋮ \n",
       "1127 14  aug   356       2        -1   0        unknown  no\n",
       "1128 19  aug   151      11        -1   0        unknown  no\n",
       "1129  6  feb   129       4       211   3        other    no"
      ]
     },
     "metadata": {},
     "output_type": "display_data"
    }
   ],
   "source": [
    "bank_split <- initial_split(bank_data, prop = 0.75, strata = age)  \n",
    "bank_train <- training(bank_split)   \n",
    "bank_test <- testing(bank_split)\n",
    "bank_train\n",
    "bank_test"
   ]
  },
  {
   "cell_type": "code",
   "execution_count": 9,
   "metadata": {},
   "outputs": [
    {
     "data": {
      "text/plain": [
       "Data Recipe\n",
       "\n",
       "Inputs:\n",
       "\n",
       "      role #variables\n",
       "   outcome          1\n",
       " predictor          1\n",
       "\n",
       "Operations:\n",
       "\n",
       "Scaling for all_predictors()\n",
       "Centering for all_predictors()"
      ]
     },
     "metadata": {},
     "output_type": "display_data"
    }
   ],
   "source": [
    "bank_recipe <- recipe(age ~ balance, data = bank_train) %>%\n",
    "    step_scale(all_predictors()) %>%\n",
    "    step_center(all_predictors())\n",
    "bank_recipe"
   ]
  },
  {
   "cell_type": "code",
   "execution_count": 11,
   "metadata": {},
   "outputs": [
    {
     "data": {
      "text/plain": [
       "══ Workflow ════════════════════════════════════════════════════════════════════\n",
       "\u001b[3mPreprocessor:\u001b[23m Recipe\n",
       "\u001b[3mModel:\u001b[23m nearest_neighbor()\n",
       "\n",
       "── Preprocessor ────────────────────────────────────────────────────────────────\n",
       "2 Recipe Steps\n",
       "\n",
       "● step_scale()\n",
       "● step_center()\n",
       "\n",
       "── Model ───────────────────────────────────────────────────────────────────────\n",
       "K-Nearest Neighbor Model Specification (classification)\n",
       "\n",
       "Main Arguments:\n",
       "  neighbors = tune()\n",
       "  weight_func = rectangular\n",
       "\n",
       "Computational engine: kknn \n"
      ]
     },
     "metadata": {},
     "output_type": "display_data"
    }
   ],
   "source": [
    "set.seed(9999) \n",
    "\n",
    "knn_spec <- nearest_neighbor(weight_func = \"rectangular\", neighbors = tune()) %>%\n",
    "       set_engine(\"kknn\") %>%\n",
    "       set_mode(\"classification\")\n",
    "\n",
    "bank_fit <- workflow() %>%\n",
    "       add_recipe(bank_recipe) %>%\n",
    "       add_model(knn_spec)\n",
    "\n",
    "bank_fit"
   ]
  },
  {
   "cell_type": "code",
   "execution_count": null,
   "metadata": {},
   "outputs": [],
   "source": []
  }
 ],
 "metadata": {
  "kernelspec": {
   "display_name": "R",
   "language": "R",
   "name": "ir"
  },
  "language_info": {
   "codemirror_mode": "r",
   "file_extension": ".r",
   "mimetype": "text/x-r-source",
   "name": "R",
   "pygments_lexer": "r",
   "version": "4.0.0"
  }
 },
 "nbformat": 4,
 "nbformat_minor": 4
}
