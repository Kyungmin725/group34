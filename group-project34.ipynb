{
 "cells": [
  {
   "cell_type": "code",
   "execution_count": 35,
   "metadata": {},
   "outputs": [],
   "source": [
    "library(tidyverse)\n",
    "library(repr)\n",
    "library(tidymodels)\n",
    "options(repr.matrix.max.rows = 6)"
   ]
  },
  {
   "cell_type": "code",
   "execution_count": 33,
   "metadata": {},
   "outputs": [
    {
     "name": "stderr",
     "output_type": "stream",
     "text": [
      "Using ',' as decimal and '.' as grouping mark. Use read_delim() for more control.\n",
      "\n",
      "Parsed with column specification:\n",
      "cols(\n",
      "  age = \u001b[32mcol_double()\u001b[39m,\n",
      "  job = \u001b[31mcol_character()\u001b[39m,\n",
      "  marital = \u001b[31mcol_character()\u001b[39m,\n",
      "  education = \u001b[31mcol_character()\u001b[39m,\n",
      "  default = \u001b[31mcol_character()\u001b[39m,\n",
      "  balance = \u001b[32mcol_double()\u001b[39m,\n",
      "  housing = \u001b[31mcol_character()\u001b[39m,\n",
      "  loan = \u001b[31mcol_character()\u001b[39m,\n",
      "  contact = \u001b[31mcol_character()\u001b[39m,\n",
      "  day = \u001b[32mcol_double()\u001b[39m,\n",
      "  month = \u001b[31mcol_character()\u001b[39m,\n",
      "  duration = \u001b[32mcol_double()\u001b[39m,\n",
      "  campaign = \u001b[32mcol_double()\u001b[39m,\n",
      "  pdays = \u001b[32mcol_double()\u001b[39m,\n",
      "  previous = \u001b[32mcol_double()\u001b[39m,\n",
      "  poutcome = \u001b[31mcol_character()\u001b[39m,\n",
      "  y = \u001b[31mcol_character()\u001b[39m\n",
      ")\n",
      "\n"
     ]
    },
    {
     "data": {
      "text/html": [
       "<table>\n",
       "<caption>A spec_tbl_df: 4521 × 17</caption>\n",
       "<thead>\n",
       "\t<tr><th scope=col>age</th><th scope=col>job</th><th scope=col>marital</th><th scope=col>education</th><th scope=col>default</th><th scope=col>balance</th><th scope=col>housing</th><th scope=col>loan</th><th scope=col>contact</th><th scope=col>day</th><th scope=col>month</th><th scope=col>duration</th><th scope=col>campaign</th><th scope=col>pdays</th><th scope=col>previous</th><th scope=col>poutcome</th><th scope=col>y</th></tr>\n",
       "\t<tr><th scope=col>&lt;dbl&gt;</th><th scope=col>&lt;chr&gt;</th><th scope=col>&lt;chr&gt;</th><th scope=col>&lt;chr&gt;</th><th scope=col>&lt;chr&gt;</th><th scope=col>&lt;dbl&gt;</th><th scope=col>&lt;chr&gt;</th><th scope=col>&lt;chr&gt;</th><th scope=col>&lt;chr&gt;</th><th scope=col>&lt;dbl&gt;</th><th scope=col>&lt;chr&gt;</th><th scope=col>&lt;dbl&gt;</th><th scope=col>&lt;dbl&gt;</th><th scope=col>&lt;dbl&gt;</th><th scope=col>&lt;dbl&gt;</th><th scope=col>&lt;chr&gt;</th><th scope=col>&lt;chr&gt;</th></tr>\n",
       "</thead>\n",
       "<tbody>\n",
       "\t<tr><td>30</td><td>unemployed</td><td>married</td><td>primary  </td><td>no</td><td>1787</td><td>no </td><td>no </td><td>cellular</td><td>19</td><td>oct</td><td> 79</td><td>1</td><td> -1</td><td>0</td><td>unknown</td><td>no</td></tr>\n",
       "\t<tr><td>33</td><td>services  </td><td>married</td><td>secondary</td><td>no</td><td>4789</td><td>yes</td><td>yes</td><td>cellular</td><td>11</td><td>may</td><td>220</td><td>1</td><td>339</td><td>4</td><td>failure</td><td>no</td></tr>\n",
       "\t<tr><td>35</td><td>management</td><td>single </td><td>tertiary </td><td>no</td><td>1350</td><td>yes</td><td>no </td><td>cellular</td><td>16</td><td>apr</td><td>185</td><td>1</td><td>330</td><td>1</td><td>failure</td><td>no</td></tr>\n",
       "\t<tr><td>⋮</td><td>⋮</td><td>⋮</td><td>⋮</td><td>⋮</td><td>⋮</td><td>⋮</td><td>⋮</td><td>⋮</td><td>⋮</td><td>⋮</td><td>⋮</td><td>⋮</td><td>⋮</td><td>⋮</td><td>⋮</td><td>⋮</td></tr>\n",
       "\t<tr><td>57</td><td>technician  </td><td>married</td><td>secondary</td><td>no</td><td> 295</td><td>no </td><td>no </td><td>cellular</td><td>19</td><td>aug</td><td>151</td><td>11</td><td> -1</td><td>0</td><td>unknown</td><td>no</td></tr>\n",
       "\t<tr><td>28</td><td>blue-collar </td><td>married</td><td>secondary</td><td>no</td><td>1137</td><td>no </td><td>no </td><td>cellular</td><td> 6</td><td>feb</td><td>129</td><td> 4</td><td>211</td><td>3</td><td>other  </td><td>no</td></tr>\n",
       "\t<tr><td>44</td><td>entrepreneur</td><td>single </td><td>tertiary </td><td>no</td><td>1136</td><td>yes</td><td>yes</td><td>cellular</td><td> 3</td><td>apr</td><td>345</td><td> 2</td><td>249</td><td>7</td><td>other  </td><td>no</td></tr>\n",
       "</tbody>\n",
       "</table>\n"
      ],
      "text/latex": [
       "A spec\\_tbl\\_df: 4521 × 17\n",
       "\\begin{tabular}{lllllllllllllllll}\n",
       " age & job & marital & education & default & balance & housing & loan & contact & day & month & duration & campaign & pdays & previous & poutcome & y\\\\\n",
       " <dbl> & <chr> & <chr> & <chr> & <chr> & <dbl> & <chr> & <chr> & <chr> & <dbl> & <chr> & <dbl> & <dbl> & <dbl> & <dbl> & <chr> & <chr>\\\\\n",
       "\\hline\n",
       "\t 30 & unemployed & married & primary   & no & 1787 & no  & no  & cellular & 19 & oct &  79 & 1 &  -1 & 0 & unknown & no\\\\\n",
       "\t 33 & services   & married & secondary & no & 4789 & yes & yes & cellular & 11 & may & 220 & 1 & 339 & 4 & failure & no\\\\\n",
       "\t 35 & management & single  & tertiary  & no & 1350 & yes & no  & cellular & 16 & apr & 185 & 1 & 330 & 1 & failure & no\\\\\n",
       "\t ⋮ & ⋮ & ⋮ & ⋮ & ⋮ & ⋮ & ⋮ & ⋮ & ⋮ & ⋮ & ⋮ & ⋮ & ⋮ & ⋮ & ⋮ & ⋮ & ⋮\\\\\n",
       "\t 57 & technician   & married & secondary & no &  295 & no  & no  & cellular & 19 & aug & 151 & 11 &  -1 & 0 & unknown & no\\\\\n",
       "\t 28 & blue-collar  & married & secondary & no & 1137 & no  & no  & cellular &  6 & feb & 129 &  4 & 211 & 3 & other   & no\\\\\n",
       "\t 44 & entrepreneur & single  & tertiary  & no & 1136 & yes & yes & cellular &  3 & apr & 345 &  2 & 249 & 7 & other   & no\\\\\n",
       "\\end{tabular}\n"
      ],
      "text/markdown": [
       "\n",
       "A spec_tbl_df: 4521 × 17\n",
       "\n",
       "| age &lt;dbl&gt; | job &lt;chr&gt; | marital &lt;chr&gt; | education &lt;chr&gt; | default &lt;chr&gt; | balance &lt;dbl&gt; | housing &lt;chr&gt; | loan &lt;chr&gt; | contact &lt;chr&gt; | day &lt;dbl&gt; | month &lt;chr&gt; | duration &lt;dbl&gt; | campaign &lt;dbl&gt; | pdays &lt;dbl&gt; | previous &lt;dbl&gt; | poutcome &lt;chr&gt; | y &lt;chr&gt; |\n",
       "|---|---|---|---|---|---|---|---|---|---|---|---|---|---|---|---|---|\n",
       "| 30 | unemployed | married | primary   | no | 1787 | no  | no  | cellular | 19 | oct |  79 | 1 |  -1 | 0 | unknown | no |\n",
       "| 33 | services   | married | secondary | no | 4789 | yes | yes | cellular | 11 | may | 220 | 1 | 339 | 4 | failure | no |\n",
       "| 35 | management | single  | tertiary  | no | 1350 | yes | no  | cellular | 16 | apr | 185 | 1 | 330 | 1 | failure | no |\n",
       "| ⋮ | ⋮ | ⋮ | ⋮ | ⋮ | ⋮ | ⋮ | ⋮ | ⋮ | ⋮ | ⋮ | ⋮ | ⋮ | ⋮ | ⋮ | ⋮ | ⋮ |\n",
       "| 57 | technician   | married | secondary | no |  295 | no  | no  | cellular | 19 | aug | 151 | 11 |  -1 | 0 | unknown | no |\n",
       "| 28 | blue-collar  | married | secondary | no | 1137 | no  | no  | cellular |  6 | feb | 129 |  4 | 211 | 3 | other   | no |\n",
       "| 44 | entrepreneur | single  | tertiary  | no | 1136 | yes | yes | cellular |  3 | apr | 345 |  2 | 249 | 7 | other   | no |\n",
       "\n"
      ],
      "text/plain": [
       "     age job          marital education default balance housing loan contact \n",
       "1    30  unemployed   married primary   no      1787    no      no   cellular\n",
       "2    33  services     married secondary no      4789    yes     yes  cellular\n",
       "3    35  management   single  tertiary  no      1350    yes     no   cellular\n",
       "⋮    ⋮   ⋮            ⋮       ⋮         ⋮       ⋮       ⋮       ⋮    ⋮       \n",
       "4519 57  technician   married secondary no       295    no      no   cellular\n",
       "4520 28  blue-collar  married secondary no      1137    no      no   cellular\n",
       "4521 44  entrepreneur single  tertiary  no      1136    yes     yes  cellular\n",
       "     day month duration campaign pdays previous poutcome y \n",
       "1    19  oct    79      1         -1   0        unknown  no\n",
       "2    11  may   220      1        339   4        failure  no\n",
       "3    16  apr   185      1        330   1        failure  no\n",
       "⋮    ⋮   ⋮     ⋮        ⋮        ⋮     ⋮        ⋮        ⋮ \n",
       "4519 19  aug   151      11        -1   0        unknown  no\n",
       "4520  6  feb   129       4       211   3        other    no\n",
       "4521  3  apr   345       2       249   7        other    no"
      ]
     },
     "metadata": {},
     "output_type": "display_data"
    }
   ],
   "source": [
    "temp <- tempfile()\n",
    "temp2 <- tempfile()\n",
    "\n",
    "url <- \"https://archive.ics.uci.edu/ml/machine-learning-databases/00222/bank.zip\"\n",
    "\n",
    "download.file(url, temp)\n",
    "unzip(zipfile = temp, exdir = temp2)\n",
    "#bank_data <- read_csv(file.path(temp2, \"bank.csv\"))\n",
    "bank_data <- read_csv2(file.path(temp2, \"bank.csv\"))\n",
    "unlink(c(temp, temp2))\n",
    "bank_data"
   ]
  },
  {
   "cell_type": "code",
   "execution_count": 19,
   "metadata": {},
   "outputs": [
    {
     "data": {
      "text/html": [
       "<table>\n",
       "<caption>A tibble: 3392 × 17</caption>\n",
       "<thead>\n",
       "\t<tr><th scope=col>age</th><th scope=col>job</th><th scope=col>marital</th><th scope=col>education</th><th scope=col>default</th><th scope=col>balance</th><th scope=col>housing</th><th scope=col>loan</th><th scope=col>contact</th><th scope=col>day</th><th scope=col>month</th><th scope=col>duration</th><th scope=col>campaign</th><th scope=col>pdays</th><th scope=col>previous</th><th scope=col>poutcome</th><th scope=col>y</th></tr>\n",
       "\t<tr><th scope=col>&lt;dbl&gt;</th><th scope=col>&lt;chr&gt;</th><th scope=col>&lt;chr&gt;</th><th scope=col>&lt;chr&gt;</th><th scope=col>&lt;chr&gt;</th><th scope=col>&lt;dbl&gt;</th><th scope=col>&lt;chr&gt;</th><th scope=col>&lt;chr&gt;</th><th scope=col>&lt;chr&gt;</th><th scope=col>&lt;dbl&gt;</th><th scope=col>&lt;chr&gt;</th><th scope=col>&lt;dbl&gt;</th><th scope=col>&lt;dbl&gt;</th><th scope=col>&lt;dbl&gt;</th><th scope=col>&lt;dbl&gt;</th><th scope=col>&lt;chr&gt;</th><th scope=col>&lt;chr&gt;</th></tr>\n",
       "</thead>\n",
       "<tbody>\n",
       "\t<tr><td>30</td><td>unemployed </td><td>married</td><td>primary  </td><td>no</td><td>1787</td><td>no </td><td>no</td><td>cellular</td><td>19</td><td>oct</td><td> 79</td><td>1</td><td> -1</td><td>0</td><td>unknown</td><td>no</td></tr>\n",
       "\t<tr><td>35</td><td>management </td><td>single </td><td>tertiary </td><td>no</td><td>1350</td><td>yes</td><td>no</td><td>cellular</td><td>16</td><td>apr</td><td>185</td><td>1</td><td>330</td><td>1</td><td>failure</td><td>no</td></tr>\n",
       "\t<tr><td>59</td><td>blue-collar</td><td>married</td><td>secondary</td><td>no</td><td>   0</td><td>yes</td><td>no</td><td>unknown </td><td> 5</td><td>may</td><td>226</td><td>1</td><td> -1</td><td>0</td><td>unknown</td><td>no</td></tr>\n",
       "\t<tr><td>⋮</td><td>⋮</td><td>⋮</td><td>⋮</td><td>⋮</td><td>⋮</td><td>⋮</td><td>⋮</td><td>⋮</td><td>⋮</td><td>⋮</td><td>⋮</td><td>⋮</td><td>⋮</td><td>⋮</td><td>⋮</td><td>⋮</td></tr>\n",
       "\t<tr><td>57</td><td>technician  </td><td>married</td><td>secondary</td><td>no</td><td> 295</td><td>no </td><td>no </td><td>cellular</td><td>19</td><td>aug</td><td>151</td><td>11</td><td> -1</td><td>0</td><td>unknown</td><td>no</td></tr>\n",
       "\t<tr><td>28</td><td>blue-collar </td><td>married</td><td>secondary</td><td>no</td><td>1137</td><td>no </td><td>no </td><td>cellular</td><td> 6</td><td>feb</td><td>129</td><td> 4</td><td>211</td><td>3</td><td>other  </td><td>no</td></tr>\n",
       "\t<tr><td>44</td><td>entrepreneur</td><td>single </td><td>tertiary </td><td>no</td><td>1136</td><td>yes</td><td>yes</td><td>cellular</td><td> 3</td><td>apr</td><td>345</td><td> 2</td><td>249</td><td>7</td><td>other  </td><td>no</td></tr>\n",
       "</tbody>\n",
       "</table>\n"
      ],
      "text/latex": [
       "A tibble: 3392 × 17\n",
       "\\begin{tabular}{lllllllllllllllll}\n",
       " age & job & marital & education & default & balance & housing & loan & contact & day & month & duration & campaign & pdays & previous & poutcome & y\\\\\n",
       " <dbl> & <chr> & <chr> & <chr> & <chr> & <dbl> & <chr> & <chr> & <chr> & <dbl> & <chr> & <dbl> & <dbl> & <dbl> & <dbl> & <chr> & <chr>\\\\\n",
       "\\hline\n",
       "\t 30 & unemployed  & married & primary   & no & 1787 & no  & no & cellular & 19 & oct &  79 & 1 &  -1 & 0 & unknown & no\\\\\n",
       "\t 35 & management  & single  & tertiary  & no & 1350 & yes & no & cellular & 16 & apr & 185 & 1 & 330 & 1 & failure & no\\\\\n",
       "\t 59 & blue-collar & married & secondary & no &    0 & yes & no & unknown  &  5 & may & 226 & 1 &  -1 & 0 & unknown & no\\\\\n",
       "\t ⋮ & ⋮ & ⋮ & ⋮ & ⋮ & ⋮ & ⋮ & ⋮ & ⋮ & ⋮ & ⋮ & ⋮ & ⋮ & ⋮ & ⋮ & ⋮ & ⋮\\\\\n",
       "\t 57 & technician   & married & secondary & no &  295 & no  & no  & cellular & 19 & aug & 151 & 11 &  -1 & 0 & unknown & no\\\\\n",
       "\t 28 & blue-collar  & married & secondary & no & 1137 & no  & no  & cellular &  6 & feb & 129 &  4 & 211 & 3 & other   & no\\\\\n",
       "\t 44 & entrepreneur & single  & tertiary  & no & 1136 & yes & yes & cellular &  3 & apr & 345 &  2 & 249 & 7 & other   & no\\\\\n",
       "\\end{tabular}\n"
      ],
      "text/markdown": [
       "\n",
       "A tibble: 3392 × 17\n",
       "\n",
       "| age &lt;dbl&gt; | job &lt;chr&gt; | marital &lt;chr&gt; | education &lt;chr&gt; | default &lt;chr&gt; | balance &lt;dbl&gt; | housing &lt;chr&gt; | loan &lt;chr&gt; | contact &lt;chr&gt; | day &lt;dbl&gt; | month &lt;chr&gt; | duration &lt;dbl&gt; | campaign &lt;dbl&gt; | pdays &lt;dbl&gt; | previous &lt;dbl&gt; | poutcome &lt;chr&gt; | y &lt;chr&gt; |\n",
       "|---|---|---|---|---|---|---|---|---|---|---|---|---|---|---|---|---|\n",
       "| 30 | unemployed  | married | primary   | no | 1787 | no  | no | cellular | 19 | oct |  79 | 1 |  -1 | 0 | unknown | no |\n",
       "| 35 | management  | single  | tertiary  | no | 1350 | yes | no | cellular | 16 | apr | 185 | 1 | 330 | 1 | failure | no |\n",
       "| 59 | blue-collar | married | secondary | no |    0 | yes | no | unknown  |  5 | may | 226 | 1 |  -1 | 0 | unknown | no |\n",
       "| ⋮ | ⋮ | ⋮ | ⋮ | ⋮ | ⋮ | ⋮ | ⋮ | ⋮ | ⋮ | ⋮ | ⋮ | ⋮ | ⋮ | ⋮ | ⋮ | ⋮ |\n",
       "| 57 | technician   | married | secondary | no |  295 | no  | no  | cellular | 19 | aug | 151 | 11 |  -1 | 0 | unknown | no |\n",
       "| 28 | blue-collar  | married | secondary | no | 1137 | no  | no  | cellular |  6 | feb | 129 |  4 | 211 | 3 | other   | no |\n",
       "| 44 | entrepreneur | single  | tertiary  | no | 1136 | yes | yes | cellular |  3 | apr | 345 |  2 | 249 | 7 | other   | no |\n",
       "\n"
      ],
      "text/plain": [
       "     age job          marital education default balance housing loan contact \n",
       "1    30  unemployed   married primary   no      1787    no      no   cellular\n",
       "2    35  management   single  tertiary  no      1350    yes     no   cellular\n",
       "3    59  blue-collar  married secondary no         0    yes     no   unknown \n",
       "⋮    ⋮   ⋮            ⋮       ⋮         ⋮       ⋮       ⋮       ⋮    ⋮       \n",
       "3390 57  technician   married secondary no       295    no      no   cellular\n",
       "3391 28  blue-collar  married secondary no      1137    no      no   cellular\n",
       "3392 44  entrepreneur single  tertiary  no      1136    yes     yes  cellular\n",
       "     day month duration campaign pdays previous poutcome y \n",
       "1    19  oct    79      1         -1   0        unknown  no\n",
       "2    16  apr   185      1        330   1        failure  no\n",
       "3     5  may   226      1         -1   0        unknown  no\n",
       "⋮    ⋮   ⋮     ⋮        ⋮        ⋮     ⋮        ⋮        ⋮ \n",
       "3390 19  aug   151      11        -1   0        unknown  no\n",
       "3391  6  feb   129       4       211   3        other    no\n",
       "3392  3  apr   345       2       249   7        other    no"
      ]
     },
     "metadata": {},
     "output_type": "display_data"
    },
    {
     "data": {
      "text/html": [
       "<table>\n",
       "<caption>A tibble: 1129 × 17</caption>\n",
       "<thead>\n",
       "\t<tr><th scope=col>age</th><th scope=col>job</th><th scope=col>marital</th><th scope=col>education</th><th scope=col>default</th><th scope=col>balance</th><th scope=col>housing</th><th scope=col>loan</th><th scope=col>contact</th><th scope=col>day</th><th scope=col>month</th><th scope=col>duration</th><th scope=col>campaign</th><th scope=col>pdays</th><th scope=col>previous</th><th scope=col>poutcome</th><th scope=col>y</th></tr>\n",
       "\t<tr><th scope=col>&lt;dbl&gt;</th><th scope=col>&lt;chr&gt;</th><th scope=col>&lt;chr&gt;</th><th scope=col>&lt;chr&gt;</th><th scope=col>&lt;chr&gt;</th><th scope=col>&lt;dbl&gt;</th><th scope=col>&lt;chr&gt;</th><th scope=col>&lt;chr&gt;</th><th scope=col>&lt;chr&gt;</th><th scope=col>&lt;dbl&gt;</th><th scope=col>&lt;chr&gt;</th><th scope=col>&lt;dbl&gt;</th><th scope=col>&lt;dbl&gt;</th><th scope=col>&lt;dbl&gt;</th><th scope=col>&lt;dbl&gt;</th><th scope=col>&lt;chr&gt;</th><th scope=col>&lt;chr&gt;</th></tr>\n",
       "</thead>\n",
       "<tbody>\n",
       "\t<tr><td>33</td><td>services     </td><td>married</td><td>secondary</td><td>no</td><td>4789</td><td>yes</td><td>yes</td><td>cellular</td><td>11</td><td>may</td><td>220</td><td>1</td><td>339</td><td>4</td><td>failure</td><td>no</td></tr>\n",
       "\t<tr><td>30</td><td>management   </td><td>married</td><td>tertiary </td><td>no</td><td>1476</td><td>yes</td><td>yes</td><td>unknown </td><td> 3</td><td>jun</td><td>199</td><td>4</td><td> -1</td><td>0</td><td>unknown</td><td>no</td></tr>\n",
       "\t<tr><td>36</td><td>self-employed</td><td>married</td><td>tertiary </td><td>no</td><td> 307</td><td>yes</td><td>no </td><td>cellular</td><td>14</td><td>may</td><td>341</td><td>1</td><td>330</td><td>2</td><td>other  </td><td>no</td></tr>\n",
       "\t<tr><td>⋮</td><td>⋮</td><td>⋮</td><td>⋮</td><td>⋮</td><td>⋮</td><td>⋮</td><td>⋮</td><td>⋮</td><td>⋮</td><td>⋮</td><td>⋮</td><td>⋮</td><td>⋮</td><td>⋮</td><td>⋮</td><td>⋮</td></tr>\n",
       "\t<tr><td>38</td><td>blue-collar  </td><td>married</td><td>secondary</td><td>no </td><td> 1205</td><td>yes</td><td>no </td><td>cellular</td><td>20</td><td>apr</td><td> 45</td><td>4</td><td>153</td><td>1</td><td>failure</td><td>no</td></tr>\n",
       "\t<tr><td>33</td><td>services     </td><td>married</td><td>secondary</td><td>no </td><td> -333</td><td>yes</td><td>no </td><td>cellular</td><td>30</td><td>jul</td><td>329</td><td>5</td><td> -1</td><td>0</td><td>unknown</td><td>no</td></tr>\n",
       "\t<tr><td>57</td><td>self-employed</td><td>married</td><td>tertiary </td><td>yes</td><td>-3313</td><td>yes</td><td>yes</td><td>unknown </td><td> 9</td><td>may</td><td>153</td><td>1</td><td> -1</td><td>0</td><td>unknown</td><td>no</td></tr>\n",
       "</tbody>\n",
       "</table>\n"
      ],
      "text/latex": [
       "A tibble: 1129 × 17\n",
       "\\begin{tabular}{lllllllllllllllll}\n",
       " age & job & marital & education & default & balance & housing & loan & contact & day & month & duration & campaign & pdays & previous & poutcome & y\\\\\n",
       " <dbl> & <chr> & <chr> & <chr> & <chr> & <dbl> & <chr> & <chr> & <chr> & <dbl> & <chr> & <dbl> & <dbl> & <dbl> & <dbl> & <chr> & <chr>\\\\\n",
       "\\hline\n",
       "\t 33 & services      & married & secondary & no & 4789 & yes & yes & cellular & 11 & may & 220 & 1 & 339 & 4 & failure & no\\\\\n",
       "\t 30 & management    & married & tertiary  & no & 1476 & yes & yes & unknown  &  3 & jun & 199 & 4 &  -1 & 0 & unknown & no\\\\\n",
       "\t 36 & self-employed & married & tertiary  & no &  307 & yes & no  & cellular & 14 & may & 341 & 1 & 330 & 2 & other   & no\\\\\n",
       "\t ⋮ & ⋮ & ⋮ & ⋮ & ⋮ & ⋮ & ⋮ & ⋮ & ⋮ & ⋮ & ⋮ & ⋮ & ⋮ & ⋮ & ⋮ & ⋮ & ⋮\\\\\n",
       "\t 38 & blue-collar   & married & secondary & no  &  1205 & yes & no  & cellular & 20 & apr &  45 & 4 & 153 & 1 & failure & no\\\\\n",
       "\t 33 & services      & married & secondary & no  &  -333 & yes & no  & cellular & 30 & jul & 329 & 5 &  -1 & 0 & unknown & no\\\\\n",
       "\t 57 & self-employed & married & tertiary  & yes & -3313 & yes & yes & unknown  &  9 & may & 153 & 1 &  -1 & 0 & unknown & no\\\\\n",
       "\\end{tabular}\n"
      ],
      "text/markdown": [
       "\n",
       "A tibble: 1129 × 17\n",
       "\n",
       "| age &lt;dbl&gt; | job &lt;chr&gt; | marital &lt;chr&gt; | education &lt;chr&gt; | default &lt;chr&gt; | balance &lt;dbl&gt; | housing &lt;chr&gt; | loan &lt;chr&gt; | contact &lt;chr&gt; | day &lt;dbl&gt; | month &lt;chr&gt; | duration &lt;dbl&gt; | campaign &lt;dbl&gt; | pdays &lt;dbl&gt; | previous &lt;dbl&gt; | poutcome &lt;chr&gt; | y &lt;chr&gt; |\n",
       "|---|---|---|---|---|---|---|---|---|---|---|---|---|---|---|---|---|\n",
       "| 33 | services      | married | secondary | no | 4789 | yes | yes | cellular | 11 | may | 220 | 1 | 339 | 4 | failure | no |\n",
       "| 30 | management    | married | tertiary  | no | 1476 | yes | yes | unknown  |  3 | jun | 199 | 4 |  -1 | 0 | unknown | no |\n",
       "| 36 | self-employed | married | tertiary  | no |  307 | yes | no  | cellular | 14 | may | 341 | 1 | 330 | 2 | other   | no |\n",
       "| ⋮ | ⋮ | ⋮ | ⋮ | ⋮ | ⋮ | ⋮ | ⋮ | ⋮ | ⋮ | ⋮ | ⋮ | ⋮ | ⋮ | ⋮ | ⋮ | ⋮ |\n",
       "| 38 | blue-collar   | married | secondary | no  |  1205 | yes | no  | cellular | 20 | apr |  45 | 4 | 153 | 1 | failure | no |\n",
       "| 33 | services      | married | secondary | no  |  -333 | yes | no  | cellular | 30 | jul | 329 | 5 |  -1 | 0 | unknown | no |\n",
       "| 57 | self-employed | married | tertiary  | yes | -3313 | yes | yes | unknown  |  9 | may | 153 | 1 |  -1 | 0 | unknown | no |\n",
       "\n"
      ],
      "text/plain": [
       "     age job           marital education default balance housing loan contact \n",
       "1    33  services      married secondary no      4789    yes     yes  cellular\n",
       "2    30  management    married tertiary  no      1476    yes     yes  unknown \n",
       "3    36  self-employed married tertiary  no       307    yes     no   cellular\n",
       "⋮    ⋮   ⋮             ⋮       ⋮         ⋮       ⋮       ⋮       ⋮    ⋮       \n",
       "1127 38  blue-collar   married secondary no       1205   yes     no   cellular\n",
       "1128 33  services      married secondary no       -333   yes     no   cellular\n",
       "1129 57  self-employed married tertiary  yes     -3313   yes     yes  unknown \n",
       "     day month duration campaign pdays previous poutcome y \n",
       "1    11  may   220      1        339   4        failure  no\n",
       "2     3  jun   199      4         -1   0        unknown  no\n",
       "3    14  may   341      1        330   2        other    no\n",
       "⋮    ⋮   ⋮     ⋮        ⋮        ⋮     ⋮        ⋮        ⋮ \n",
       "1127 20  apr    45      4        153   1        failure  no\n",
       "1128 30  jul   329      5         -1   0        unknown  no\n",
       "1129  9  may   153      1         -1   0        unknown  no"
      ]
     },
     "metadata": {},
     "output_type": "display_data"
    }
   ],
   "source": [
    "bank_split <- initial_split(bank_data, prop = 0.75, strata = age)  \n",
    "bank_train <- training(bank_split)   \n",
    "bank_test <- testing(bank_split)\n",
    "bank_train\n",
    "bank_test"
   ]
  },
  {
   "cell_type": "code",
   "execution_count": 27,
   "metadata": {},
   "outputs": [
    {
     "data": {
      "text/plain": [
       "Data Recipe\n",
       "\n",
       "Inputs:\n",
       "\n",
       "      role #variables\n",
       "   outcome          1\n",
       " predictor         16\n",
       "\n",
       "Operations:\n",
       "\n",
       "Scaling for all_predictors()\n",
       "Centering for all_predictors()"
      ]
     },
     "metadata": {},
     "output_type": "display_data"
    }
   ],
   "source": [
    "bank_recipe <- recipe(age ~ ., data = bank_train) %>%\n",
    "    step_scale(all_predictors()) %>%\n",
    "    step_center(all_predictors())\n",
    "bank_recipe"
   ]
  },
  {
   "cell_type": "code",
   "execution_count": 29,
   "metadata": {},
   "outputs": [
    {
     "ename": "ERROR",
     "evalue": "Error: All columns selected for the step should be numeric\n",
     "output_type": "error",
     "traceback": [
      "Error: All columns selected for the step should be numeric\nTraceback:\n",
      "1. workflow() %>% add_recipe(bank_recipe) %>% add_model(knn_spec) %>% \n .     fit(data = bank_train)",
      "2. withVisible(eval(quote(`_fseq`(`_lhs`)), env, env))",
      "3. eval(quote(`_fseq`(`_lhs`)), env, env)",
      "4. eval(quote(`_fseq`(`_lhs`)), env, env)",
      "5. `_fseq`(`_lhs`)",
      "6. freduce(value, `_function_list`)",
      "7. withVisible(function_list[[k]](value))",
      "8. function_list[[k]](value)",
      "9. fit(., data = bank_train)",
      "10. fit.workflow(., data = bank_train)",
      "11. .fit_pre(workflow, data)",
      "12. fit(action, workflow = workflow, data = data)",
      "13. fit.action_recipe(action, workflow = workflow, data = data)",
      "14. hardhat::mold(recipe, data, blueprint = blueprint)",
      "15. mold.recipe(recipe, data, blueprint = blueprint)",
      "16. run_mold(blueprint, data)",
      "17. run_mold.recipe_blueprint(blueprint, data)",
      "18. blueprint$mold$process(blueprint = blueprint, data = data)",
      "19. recipes::prep(blueprint$recipe, training = data, fresh = blueprint$fresh)",
      "20. prep.recipe(blueprint$recipe, training = data, fresh = blueprint$fresh)",
      "21. prep(x$steps[[i]], training = training, info = x$term_info)",
      "22. prep.step_scale(x$steps[[i]], training = training, info = x$term_info)",
      "23. check_type(training[, col_names])",
      "24. rlang::abort(paste0(\"All columns selected for the step\", \" should be \", \n  .     label))",
      "25. signal_abort(cnd)"
     ]
    }
   ],
   "source": [
    "set.seed(9999) \n",
    "\n",
    "knn_spec <- nearest_neighbor(weight_func = \"rectangular\", neighbors = tune()) %>%\n",
    "       set_engine(\"kknn\") %>%\n",
    "       set_mode(\"classification\")\n",
    "\n",
    "bank_fit <- workflow() %>%\n",
    "       add_recipe(bank_recipe) %>%\n",
    "       add_model(knn_spec) %>%\n",
    "       fit(data = bank_train)\n",
    "\n",
    "bank_fit"
   ]
  },
  {
   "cell_type": "code",
   "execution_count": null,
   "metadata": {},
   "outputs": [],
   "source": []
  }
 ],
 "metadata": {
  "kernelspec": {
   "display_name": "R",
   "language": "R",
   "name": "ir"
  },
  "language_info": {
   "codemirror_mode": "r",
   "file_extension": ".r",
   "mimetype": "text/x-r-source",
   "name": "R",
   "pygments_lexer": "r",
   "version": "4.0.0"
  }
 },
 "nbformat": 4,
 "nbformat_minor": 4
}
