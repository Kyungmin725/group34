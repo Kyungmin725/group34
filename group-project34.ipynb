{
 "cells": [
  {
   "cell_type": "markdown",
   "metadata": {},
   "source": [
    "**The Relationship between Bank Term Subscriptions, Age and Bank Balance**"
   ]
  },
  {
   "cell_type": "code",
   "execution_count": 2,
   "metadata": {},
   "outputs": [],
   "source": [
    "library(tidyverse)\n",
    "library(repr)\n",
    "library(tidymodels)\n",
    "options(repr.matrix.max.rows = 6)"
   ]
  },
  {
   "cell_type": "markdown",
   "metadata": {},
   "source": [
    "**Introduction**<br/>\n",
    "\n",
    "The Bank Marketing dataset was gathered from a direct marketing campaign of a Portuguese baking institution. The bank collected information from their clients over the phone, and each client was contacted multiple times. The Bank Marketing Dataset discusses multiple characteristics of clients of a bank in hopes to predict whether they will subscribe to a term deposit. Variables in the set include age, job, education, marital status, and more.\n",
    "\n",
    "The question our project aims to answer is: Will new clients subscribe to a bank term deposit or will new clients not subscribe to a bank term deposit? This is achieved through classification and further described below.\n"
   ]
  },
  {
   "cell_type": "markdown",
   "metadata": {},
   "source": [
    "**Methods**<br/>\n",
    "A preliminary data analysis was completed to review the information available to us to work with as well as chose the main predictors to use for the project. \n",
    "\n",
    "The dataset was first loaded into R from an external website and converted into a .csv file format to ensure that it can be worked with efficiently. The functions head and tail are utilized below to show snippets of the data to ensure readability. The two columns we are interested in are age and balance which are extracted using the select function."
   ]
  },
  {
   "cell_type": "code",
   "execution_count": 52,
   "metadata": {},
   "outputs": [
    {
     "name": "stderr",
     "output_type": "stream",
     "text": [
      "Using ',' as decimal and '.' as grouping mark. Use read_delim() for more control.\n",
      "\n",
      "Parsed with column specification:\n",
      "cols(\n",
      "  age = \u001b[32mcol_double()\u001b[39m,\n",
      "  job = \u001b[31mcol_character()\u001b[39m,\n",
      "  marital = \u001b[31mcol_character()\u001b[39m,\n",
      "  education = \u001b[31mcol_character()\u001b[39m,\n",
      "  default = \u001b[31mcol_character()\u001b[39m,\n",
      "  balance = \u001b[32mcol_double()\u001b[39m,\n",
      "  housing = \u001b[31mcol_character()\u001b[39m,\n",
      "  loan = \u001b[31mcol_character()\u001b[39m,\n",
      "  contact = \u001b[31mcol_character()\u001b[39m,\n",
      "  day = \u001b[32mcol_double()\u001b[39m,\n",
      "  month = \u001b[31mcol_character()\u001b[39m,\n",
      "  duration = \u001b[32mcol_double()\u001b[39m,\n",
      "  campaign = \u001b[32mcol_double()\u001b[39m,\n",
      "  pdays = \u001b[32mcol_double()\u001b[39m,\n",
      "  previous = \u001b[32mcol_double()\u001b[39m,\n",
      "  poutcome = \u001b[31mcol_character()\u001b[39m,\n",
      "  y = \u001b[31mcol_character()\u001b[39m\n",
      ")\n",
      "\n"
     ]
    },
    {
     "data": {
      "text/html": [
       "<table>\n",
       "<caption>A tibble: 6 × 17</caption>\n",
       "<thead>\n",
       "\t<tr><th scope=col>age</th><th scope=col>job</th><th scope=col>marital</th><th scope=col>education</th><th scope=col>default</th><th scope=col>balance</th><th scope=col>housing</th><th scope=col>loan</th><th scope=col>contact</th><th scope=col>day</th><th scope=col>month</th><th scope=col>duration</th><th scope=col>campaign</th><th scope=col>pdays</th><th scope=col>previous</th><th scope=col>poutcome</th><th scope=col>y</th></tr>\n",
       "\t<tr><th scope=col>&lt;dbl&gt;</th><th scope=col>&lt;chr&gt;</th><th scope=col>&lt;chr&gt;</th><th scope=col>&lt;chr&gt;</th><th scope=col>&lt;chr&gt;</th><th scope=col>&lt;dbl&gt;</th><th scope=col>&lt;chr&gt;</th><th scope=col>&lt;chr&gt;</th><th scope=col>&lt;chr&gt;</th><th scope=col>&lt;dbl&gt;</th><th scope=col>&lt;chr&gt;</th><th scope=col>&lt;dbl&gt;</th><th scope=col>&lt;dbl&gt;</th><th scope=col>&lt;dbl&gt;</th><th scope=col>&lt;dbl&gt;</th><th scope=col>&lt;chr&gt;</th><th scope=col>&lt;fct&gt;</th></tr>\n",
       "</thead>\n",
       "<tbody>\n",
       "\t<tr><td>30</td><td>unemployed </td><td>married</td><td>primary  </td><td>no</td><td>1787</td><td>no </td><td>no </td><td>cellular</td><td>19</td><td>oct</td><td> 79</td><td>1</td><td> -1</td><td>0</td><td>unknown</td><td>no</td></tr>\n",
       "\t<tr><td>33</td><td>services   </td><td>married</td><td>secondary</td><td>no</td><td>4789</td><td>yes</td><td>yes</td><td>cellular</td><td>11</td><td>may</td><td>220</td><td>1</td><td>339</td><td>4</td><td>failure</td><td>no</td></tr>\n",
       "\t<tr><td>35</td><td>management </td><td>single </td><td>tertiary </td><td>no</td><td>1350</td><td>yes</td><td>no </td><td>cellular</td><td>16</td><td>apr</td><td>185</td><td>1</td><td>330</td><td>1</td><td>failure</td><td>no</td></tr>\n",
       "\t<tr><td>30</td><td>management </td><td>married</td><td>tertiary </td><td>no</td><td>1476</td><td>yes</td><td>yes</td><td>unknown </td><td> 3</td><td>jun</td><td>199</td><td>4</td><td> -1</td><td>0</td><td>unknown</td><td>no</td></tr>\n",
       "\t<tr><td>59</td><td>blue-collar</td><td>married</td><td>secondary</td><td>no</td><td>   0</td><td>yes</td><td>no </td><td>unknown </td><td> 5</td><td>may</td><td>226</td><td>1</td><td> -1</td><td>0</td><td>unknown</td><td>no</td></tr>\n",
       "\t<tr><td>35</td><td>management </td><td>single </td><td>tertiary </td><td>no</td><td> 747</td><td>no </td><td>no </td><td>cellular</td><td>23</td><td>feb</td><td>141</td><td>2</td><td>176</td><td>3</td><td>failure</td><td>no</td></tr>\n",
       "</tbody>\n",
       "</table>\n"
      ],
      "text/latex": [
       "A tibble: 6 × 17\n",
       "\\begin{tabular}{lllllllllllllllll}\n",
       " age & job & marital & education & default & balance & housing & loan & contact & day & month & duration & campaign & pdays & previous & poutcome & y\\\\\n",
       " <dbl> & <chr> & <chr> & <chr> & <chr> & <dbl> & <chr> & <chr> & <chr> & <dbl> & <chr> & <dbl> & <dbl> & <dbl> & <dbl> & <chr> & <fct>\\\\\n",
       "\\hline\n",
       "\t 30 & unemployed  & married & primary   & no & 1787 & no  & no  & cellular & 19 & oct &  79 & 1 &  -1 & 0 & unknown & no\\\\\n",
       "\t 33 & services    & married & secondary & no & 4789 & yes & yes & cellular & 11 & may & 220 & 1 & 339 & 4 & failure & no\\\\\n",
       "\t 35 & management  & single  & tertiary  & no & 1350 & yes & no  & cellular & 16 & apr & 185 & 1 & 330 & 1 & failure & no\\\\\n",
       "\t 30 & management  & married & tertiary  & no & 1476 & yes & yes & unknown  &  3 & jun & 199 & 4 &  -1 & 0 & unknown & no\\\\\n",
       "\t 59 & blue-collar & married & secondary & no &    0 & yes & no  & unknown  &  5 & may & 226 & 1 &  -1 & 0 & unknown & no\\\\\n",
       "\t 35 & management  & single  & tertiary  & no &  747 & no  & no  & cellular & 23 & feb & 141 & 2 & 176 & 3 & failure & no\\\\\n",
       "\\end{tabular}\n"
      ],
      "text/markdown": [
       "\n",
       "A tibble: 6 × 17\n",
       "\n",
       "| age &lt;dbl&gt; | job &lt;chr&gt; | marital &lt;chr&gt; | education &lt;chr&gt; | default &lt;chr&gt; | balance &lt;dbl&gt; | housing &lt;chr&gt; | loan &lt;chr&gt; | contact &lt;chr&gt; | day &lt;dbl&gt; | month &lt;chr&gt; | duration &lt;dbl&gt; | campaign &lt;dbl&gt; | pdays &lt;dbl&gt; | previous &lt;dbl&gt; | poutcome &lt;chr&gt; | y &lt;fct&gt; |\n",
       "|---|---|---|---|---|---|---|---|---|---|---|---|---|---|---|---|---|\n",
       "| 30 | unemployed  | married | primary   | no | 1787 | no  | no  | cellular | 19 | oct |  79 | 1 |  -1 | 0 | unknown | no |\n",
       "| 33 | services    | married | secondary | no | 4789 | yes | yes | cellular | 11 | may | 220 | 1 | 339 | 4 | failure | no |\n",
       "| 35 | management  | single  | tertiary  | no | 1350 | yes | no  | cellular | 16 | apr | 185 | 1 | 330 | 1 | failure | no |\n",
       "| 30 | management  | married | tertiary  | no | 1476 | yes | yes | unknown  |  3 | jun | 199 | 4 |  -1 | 0 | unknown | no |\n",
       "| 59 | blue-collar | married | secondary | no |    0 | yes | no  | unknown  |  5 | may | 226 | 1 |  -1 | 0 | unknown | no |\n",
       "| 35 | management  | single  | tertiary  | no |  747 | no  | no  | cellular | 23 | feb | 141 | 2 | 176 | 3 | failure | no |\n",
       "\n"
      ],
      "text/plain": [
       "  age job         marital education default balance housing loan contact  day\n",
       "1 30  unemployed  married primary   no      1787    no      no   cellular 19 \n",
       "2 33  services    married secondary no      4789    yes     yes  cellular 11 \n",
       "3 35  management  single  tertiary  no      1350    yes     no   cellular 16 \n",
       "4 30  management  married tertiary  no      1476    yes     yes  unknown   3 \n",
       "5 59  blue-collar married secondary no         0    yes     no   unknown   5 \n",
       "6 35  management  single  tertiary  no       747    no      no   cellular 23 \n",
       "  month duration campaign pdays previous poutcome y \n",
       "1 oct    79      1         -1   0        unknown  no\n",
       "2 may   220      1        339   4        failure  no\n",
       "3 apr   185      1        330   1        failure  no\n",
       "4 jun   199      4         -1   0        unknown  no\n",
       "5 may   226      1         -1   0        unknown  no\n",
       "6 feb   141      2        176   3        failure  no"
      ]
     },
     "metadata": {},
     "output_type": "display_data"
    },
    {
     "data": {
      "text/html": [
       "<table>\n",
       "<caption>A tibble: 6 × 17</caption>\n",
       "<thead>\n",
       "\t<tr><th scope=col>age</th><th scope=col>job</th><th scope=col>marital</th><th scope=col>education</th><th scope=col>default</th><th scope=col>balance</th><th scope=col>housing</th><th scope=col>loan</th><th scope=col>contact</th><th scope=col>day</th><th scope=col>month</th><th scope=col>duration</th><th scope=col>campaign</th><th scope=col>pdays</th><th scope=col>previous</th><th scope=col>poutcome</th><th scope=col>y</th></tr>\n",
       "\t<tr><th scope=col>&lt;dbl&gt;</th><th scope=col>&lt;chr&gt;</th><th scope=col>&lt;chr&gt;</th><th scope=col>&lt;chr&gt;</th><th scope=col>&lt;chr&gt;</th><th scope=col>&lt;dbl&gt;</th><th scope=col>&lt;chr&gt;</th><th scope=col>&lt;chr&gt;</th><th scope=col>&lt;chr&gt;</th><th scope=col>&lt;dbl&gt;</th><th scope=col>&lt;chr&gt;</th><th scope=col>&lt;dbl&gt;</th><th scope=col>&lt;dbl&gt;</th><th scope=col>&lt;dbl&gt;</th><th scope=col>&lt;dbl&gt;</th><th scope=col>&lt;chr&gt;</th><th scope=col>&lt;fct&gt;</th></tr>\n",
       "</thead>\n",
       "<tbody>\n",
       "\t<tr><td>32</td><td>services     </td><td>single </td><td>secondary</td><td>no </td><td>  473</td><td>yes</td><td>no </td><td>cellular</td><td> 7</td><td>jul</td><td>624</td><td> 5</td><td> -1</td><td>0</td><td>unknown</td><td>no</td></tr>\n",
       "\t<tr><td>33</td><td>services     </td><td>married</td><td>secondary</td><td>no </td><td> -333</td><td>yes</td><td>no </td><td>cellular</td><td>30</td><td>jul</td><td>329</td><td> 5</td><td> -1</td><td>0</td><td>unknown</td><td>no</td></tr>\n",
       "\t<tr><td>57</td><td>self-employed</td><td>married</td><td>tertiary </td><td>yes</td><td>-3313</td><td>yes</td><td>yes</td><td>unknown </td><td> 9</td><td>may</td><td>153</td><td> 1</td><td> -1</td><td>0</td><td>unknown</td><td>no</td></tr>\n",
       "\t<tr><td>57</td><td>technician   </td><td>married</td><td>secondary</td><td>no </td><td>  295</td><td>no </td><td>no </td><td>cellular</td><td>19</td><td>aug</td><td>151</td><td>11</td><td> -1</td><td>0</td><td>unknown</td><td>no</td></tr>\n",
       "\t<tr><td>28</td><td>blue-collar  </td><td>married</td><td>secondary</td><td>no </td><td> 1137</td><td>no </td><td>no </td><td>cellular</td><td> 6</td><td>feb</td><td>129</td><td> 4</td><td>211</td><td>3</td><td>other  </td><td>no</td></tr>\n",
       "\t<tr><td>44</td><td>entrepreneur </td><td>single </td><td>tertiary </td><td>no </td><td> 1136</td><td>yes</td><td>yes</td><td>cellular</td><td> 3</td><td>apr</td><td>345</td><td> 2</td><td>249</td><td>7</td><td>other  </td><td>no</td></tr>\n",
       "</tbody>\n",
       "</table>\n"
      ],
      "text/latex": [
       "A tibble: 6 × 17\n",
       "\\begin{tabular}{lllllllllllllllll}\n",
       " age & job & marital & education & default & balance & housing & loan & contact & day & month & duration & campaign & pdays & previous & poutcome & y\\\\\n",
       " <dbl> & <chr> & <chr> & <chr> & <chr> & <dbl> & <chr> & <chr> & <chr> & <dbl> & <chr> & <dbl> & <dbl> & <dbl> & <dbl> & <chr> & <fct>\\\\\n",
       "\\hline\n",
       "\t 32 & services      & single  & secondary & no  &   473 & yes & no  & cellular &  7 & jul & 624 &  5 &  -1 & 0 & unknown & no\\\\\n",
       "\t 33 & services      & married & secondary & no  &  -333 & yes & no  & cellular & 30 & jul & 329 &  5 &  -1 & 0 & unknown & no\\\\\n",
       "\t 57 & self-employed & married & tertiary  & yes & -3313 & yes & yes & unknown  &  9 & may & 153 &  1 &  -1 & 0 & unknown & no\\\\\n",
       "\t 57 & technician    & married & secondary & no  &   295 & no  & no  & cellular & 19 & aug & 151 & 11 &  -1 & 0 & unknown & no\\\\\n",
       "\t 28 & blue-collar   & married & secondary & no  &  1137 & no  & no  & cellular &  6 & feb & 129 &  4 & 211 & 3 & other   & no\\\\\n",
       "\t 44 & entrepreneur  & single  & tertiary  & no  &  1136 & yes & yes & cellular &  3 & apr & 345 &  2 & 249 & 7 & other   & no\\\\\n",
       "\\end{tabular}\n"
      ],
      "text/markdown": [
       "\n",
       "A tibble: 6 × 17\n",
       "\n",
       "| age &lt;dbl&gt; | job &lt;chr&gt; | marital &lt;chr&gt; | education &lt;chr&gt; | default &lt;chr&gt; | balance &lt;dbl&gt; | housing &lt;chr&gt; | loan &lt;chr&gt; | contact &lt;chr&gt; | day &lt;dbl&gt; | month &lt;chr&gt; | duration &lt;dbl&gt; | campaign &lt;dbl&gt; | pdays &lt;dbl&gt; | previous &lt;dbl&gt; | poutcome &lt;chr&gt; | y &lt;fct&gt; |\n",
       "|---|---|---|---|---|---|---|---|---|---|---|---|---|---|---|---|---|\n",
       "| 32 | services      | single  | secondary | no  |   473 | yes | no  | cellular |  7 | jul | 624 |  5 |  -1 | 0 | unknown | no |\n",
       "| 33 | services      | married | secondary | no  |  -333 | yes | no  | cellular | 30 | jul | 329 |  5 |  -1 | 0 | unknown | no |\n",
       "| 57 | self-employed | married | tertiary  | yes | -3313 | yes | yes | unknown  |  9 | may | 153 |  1 |  -1 | 0 | unknown | no |\n",
       "| 57 | technician    | married | secondary | no  |   295 | no  | no  | cellular | 19 | aug | 151 | 11 |  -1 | 0 | unknown | no |\n",
       "| 28 | blue-collar   | married | secondary | no  |  1137 | no  | no  | cellular |  6 | feb | 129 |  4 | 211 | 3 | other   | no |\n",
       "| 44 | entrepreneur  | single  | tertiary  | no  |  1136 | yes | yes | cellular |  3 | apr | 345 |  2 | 249 | 7 | other   | no |\n",
       "\n"
      ],
      "text/plain": [
       "  age job           marital education default balance housing loan contact  day\n",
       "1 32  services      single  secondary no        473   yes     no   cellular  7 \n",
       "2 33  services      married secondary no       -333   yes     no   cellular 30 \n",
       "3 57  self-employed married tertiary  yes     -3313   yes     yes  unknown   9 \n",
       "4 57  technician    married secondary no        295   no      no   cellular 19 \n",
       "5 28  blue-collar   married secondary no       1137   no      no   cellular  6 \n",
       "6 44  entrepreneur  single  tertiary  no       1136   yes     yes  cellular  3 \n",
       "  month duration campaign pdays previous poutcome y \n",
       "1 jul   624       5        -1   0        unknown  no\n",
       "2 jul   329       5        -1   0        unknown  no\n",
       "3 may   153       1        -1   0        unknown  no\n",
       "4 aug   151      11        -1   0        unknown  no\n",
       "5 feb   129       4       211   3        other    no\n",
       "6 apr   345       2       249   7        other    no"
      ]
     },
     "metadata": {},
     "output_type": "display_data"
    }
   ],
   "source": [
    "temp <- tempfile()\n",
    "temp2 <- tempfile()\n",
    "\n",
    "# Load the data from source website\n",
    "url <- \"https://archive.ics.uci.edu/ml/machine-learning-databases/00222/bank.zip\"\n",
    "\n",
    "download.file(url, temp)\n",
    "unzip(zipfile = temp, exdir = temp2)\n",
    "# Read the data as csv and treat the variable \"y(whether client subscribe to term deposit)\" as factor\n",
    "bank_data <- read_csv2(file.path(temp2, \"bank.csv\")) %>%\n",
    "    mutate(y = as_factor(y))\n",
    "unlink(c(temp, temp2))\n",
    "head(bank_data)\n",
    "tail(bank_data)"
   ]
  },
  {
   "cell_type": "code",
   "execution_count": 31,
   "metadata": {},
   "outputs": [
    {
     "data": {
      "text/html": [
       "<table>\n",
       "<caption>A tibble: 6 × 5</caption>\n",
       "<thead>\n",
       "\t<tr><th scope=col>age</th><th scope=col>balance</th><th scope=col>y</th><th scope=col>scaled_age</th><th scope=col>scaled_balance</th></tr>\n",
       "\t<tr><th scope=col>&lt;dbl&gt;</th><th scope=col>&lt;dbl&gt;</th><th scope=col>&lt;fct&gt;</th><th scope=col>&lt;dbl[,1]&gt;</th><th scope=col>&lt;dbl[,1]&gt;</th></tr>\n",
       "</thead>\n",
       "<tbody>\n",
       "\t<tr><td>30</td><td>1787</td><td>no</td><td>-1.0561528</td><td> 0.12105847</td></tr>\n",
       "\t<tr><td>33</td><td>4789</td><td>no</td><td>-0.7724974</td><td> 1.11852057</td></tr>\n",
       "\t<tr><td>35</td><td>1350</td><td>no</td><td>-0.5833937</td><td>-0.02414171</td></tr>\n",
       "\t<tr><td>30</td><td>1476</td><td>no</td><td>-1.0561528</td><td> 0.01772379</td></tr>\n",
       "\t<tr><td>59</td><td>   0</td><td>no</td><td> 1.6858500</td><td>-0.47270062</td></tr>\n",
       "\t<tr><td>35</td><td> 747</td><td>no</td><td>-0.5833937</td><td>-0.22449803</td></tr>\n",
       "</tbody>\n",
       "</table>\n"
      ],
      "text/latex": [
       "A tibble: 6 × 5\n",
       "\\begin{tabular}{lllll}\n",
       " age & balance & y & scaled\\_age & scaled\\_balance\\\\\n",
       " <dbl> & <dbl> & <fct> & <dbl{[},1{]}> & <dbl{[},1{]}>\\\\\n",
       "\\hline\n",
       "\t 30 & 1787 & no & -1.0561528 &  0.12105847\\\\\n",
       "\t 33 & 4789 & no & -0.7724974 &  1.11852057\\\\\n",
       "\t 35 & 1350 & no & -0.5833937 & -0.02414171\\\\\n",
       "\t 30 & 1476 & no & -1.0561528 &  0.01772379\\\\\n",
       "\t 59 &    0 & no &  1.6858500 & -0.47270062\\\\\n",
       "\t 35 &  747 & no & -0.5833937 & -0.22449803\\\\\n",
       "\\end{tabular}\n"
      ],
      "text/markdown": [
       "\n",
       "A tibble: 6 × 5\n",
       "\n",
       "| age &lt;dbl&gt; | balance &lt;dbl&gt; | y &lt;fct&gt; | scaled_age &lt;dbl[,1]&gt; | scaled_balance &lt;dbl[,1]&gt; |\n",
       "|---|---|---|---|---|\n",
       "| 30 | 1787 | no | -1.0561528 |  0.12105847 |\n",
       "| 33 | 4789 | no | -0.7724974 |  1.11852057 |\n",
       "| 35 | 1350 | no | -0.5833937 | -0.02414171 |\n",
       "| 30 | 1476 | no | -1.0561528 |  0.01772379 |\n",
       "| 59 |    0 | no |  1.6858500 | -0.47270062 |\n",
       "| 35 |  747 | no | -0.5833937 | -0.22449803 |\n",
       "\n"
      ],
      "text/plain": [
       "  age balance y  scaled_age scaled_balance\n",
       "1 30  1787    no -1.0561528  0.12105847   \n",
       "2 33  4789    no -0.7724974  1.11852057   \n",
       "3 35  1350    no -0.5833937 -0.02414171   \n",
       "4 30  1476    no -1.0561528  0.01772379   \n",
       "5 59     0    no  1.6858500 -0.47270062   \n",
       "6 35   747    no -0.5833937 -0.22449803   "
      ]
     },
     "metadata": {},
     "output_type": "display_data"
    },
    {
     "data": {
      "text/html": [
       "<table>\n",
       "<caption>A tibble: 6 × 5</caption>\n",
       "<thead>\n",
       "\t<tr><th scope=col>age</th><th scope=col>balance</th><th scope=col>y</th><th scope=col>scaled_age</th><th scope=col>scaled_balance</th></tr>\n",
       "\t<tr><th scope=col>&lt;dbl&gt;</th><th scope=col>&lt;dbl&gt;</th><th scope=col>&lt;fct&gt;</th><th scope=col>&lt;dbl[,1]&gt;</th><th scope=col>&lt;dbl[,1]&gt;</th></tr>\n",
       "</thead>\n",
       "<tbody>\n",
       "\t<tr><td>32</td><td>  473</td><td>no</td><td>-0.8670492</td><td>-0.31553887</td></tr>\n",
       "\t<tr><td>33</td><td> -333</td><td>no</td><td>-0.7724974</td><td>-0.58334515</td></tr>\n",
       "\t<tr><td>57</td><td>-3313</td><td>no</td><td> 1.4967463</td><td>-1.57349741</td></tr>\n",
       "\t<tr><td>57</td><td>  295</td><td>no</td><td> 1.4967463</td><td>-0.37468219</td></tr>\n",
       "\t<tr><td>28</td><td> 1137</td><td>no</td><td>-1.2452565</td><td>-0.09491434</td></tr>\n",
       "\t<tr><td>44</td><td> 1136</td><td>no</td><td> 0.2675727</td><td>-0.09524661</td></tr>\n",
       "</tbody>\n",
       "</table>\n"
      ],
      "text/latex": [
       "A tibble: 6 × 5\n",
       "\\begin{tabular}{lllll}\n",
       " age & balance & y & scaled\\_age & scaled\\_balance\\\\\n",
       " <dbl> & <dbl> & <fct> & <dbl{[},1{]}> & <dbl{[},1{]}>\\\\\n",
       "\\hline\n",
       "\t 32 &   473 & no & -0.8670492 & -0.31553887\\\\\n",
       "\t 33 &  -333 & no & -0.7724974 & -0.58334515\\\\\n",
       "\t 57 & -3313 & no &  1.4967463 & -1.57349741\\\\\n",
       "\t 57 &   295 & no &  1.4967463 & -0.37468219\\\\\n",
       "\t 28 &  1137 & no & -1.2452565 & -0.09491434\\\\\n",
       "\t 44 &  1136 & no &  0.2675727 & -0.09524661\\\\\n",
       "\\end{tabular}\n"
      ],
      "text/markdown": [
       "\n",
       "A tibble: 6 × 5\n",
       "\n",
       "| age &lt;dbl&gt; | balance &lt;dbl&gt; | y &lt;fct&gt; | scaled_age &lt;dbl[,1]&gt; | scaled_balance &lt;dbl[,1]&gt; |\n",
       "|---|---|---|---|---|\n",
       "| 32 |   473 | no | -0.8670492 | -0.31553887 |\n",
       "| 33 |  -333 | no | -0.7724974 | -0.58334515 |\n",
       "| 57 | -3313 | no |  1.4967463 | -1.57349741 |\n",
       "| 57 |   295 | no |  1.4967463 | -0.37468219 |\n",
       "| 28 |  1137 | no | -1.2452565 | -0.09491434 |\n",
       "| 44 |  1136 | no |  0.2675727 | -0.09524661 |\n",
       "\n"
      ],
      "text/plain": [
       "  age balance y  scaled_age scaled_balance\n",
       "1 32    473   no -0.8670492 -0.31553887   \n",
       "2 33   -333   no -0.7724974 -0.58334515   \n",
       "3 57  -3313   no  1.4967463 -1.57349741   \n",
       "4 57    295   no  1.4967463 -0.37468219   \n",
       "5 28   1137   no -1.2452565 -0.09491434   \n",
       "6 44   1136   no  0.2675727 -0.09524661   "
      ]
     },
     "metadata": {},
     "output_type": "display_data"
    }
   ],
   "source": [
    "set.seed(999)\n",
    "\n",
    "# We choose age(client age) and balance(average yearly balance of client) as the predictors of y(whether client subscribe to term deposit),\n",
    "# as we believe that these two factors affects the willingness of clients on subscribing bank term deposit the most\n",
    "\n",
    "# Extract a data frame from the original data with only the columes that we are interested: age, balance, y\n",
    "bank_age_balance <- bank_data %>%\n",
    "    select(age, balance, y)\n",
    "\n",
    "# Scale age and balance\n",
    "bank_age_balance <- bank_age_balance %>%\n",
    "    mutate(scaled_age = scale(age, center = TRUE),\n",
    "           scaled_balance = scale(balance, center = TRUE))\n",
    "\n",
    "# Print the head and tail of bank_age_balance\n",
    "head(bank_age_balance)\n",
    "tail(bank_age_balance)"
   ]
  },
  {
   "cell_type": "code",
   "execution_count": 33,
   "metadata": {},
   "outputs": [
    {
     "data": {
      "text/html": [
       "<table>\n",
       "<caption>A tibble: 6 × 5</caption>\n",
       "<thead>\n",
       "\t<tr><th scope=col>age</th><th scope=col>balance</th><th scope=col>y</th><th scope=col>scaled_age</th><th scope=col>scaled_balance</th></tr>\n",
       "\t<tr><th scope=col>&lt;dbl&gt;</th><th scope=col>&lt;dbl&gt;</th><th scope=col>&lt;fct&gt;</th><th scope=col>&lt;dbl[,1]&gt;</th><th scope=col>&lt;dbl[,1]&gt;</th></tr>\n",
       "</thead>\n",
       "<tbody>\n",
       "\t<tr><td>30</td><td>1787</td><td>no</td><td>-1.0561528</td><td> 0.12105847</td></tr>\n",
       "\t<tr><td>33</td><td>4789</td><td>no</td><td>-0.7724974</td><td> 1.11852057</td></tr>\n",
       "\t<tr><td>35</td><td>1350</td><td>no</td><td>-0.5833937</td><td>-0.02414171</td></tr>\n",
       "\t<tr><td>30</td><td>1476</td><td>no</td><td>-1.0561528</td><td> 0.01772379</td></tr>\n",
       "\t<tr><td>59</td><td>   0</td><td>no</td><td> 1.6858500</td><td>-0.47270062</td></tr>\n",
       "\t<tr><td>35</td><td> 747</td><td>no</td><td>-0.5833937</td><td>-0.22449803</td></tr>\n",
       "</tbody>\n",
       "</table>\n"
      ],
      "text/latex": [
       "A tibble: 6 × 5\n",
       "\\begin{tabular}{lllll}\n",
       " age & balance & y & scaled\\_age & scaled\\_balance\\\\\n",
       " <dbl> & <dbl> & <fct> & <dbl{[},1{]}> & <dbl{[},1{]}>\\\\\n",
       "\\hline\n",
       "\t 30 & 1787 & no & -1.0561528 &  0.12105847\\\\\n",
       "\t 33 & 4789 & no & -0.7724974 &  1.11852057\\\\\n",
       "\t 35 & 1350 & no & -0.5833937 & -0.02414171\\\\\n",
       "\t 30 & 1476 & no & -1.0561528 &  0.01772379\\\\\n",
       "\t 59 &    0 & no &  1.6858500 & -0.47270062\\\\\n",
       "\t 35 &  747 & no & -0.5833937 & -0.22449803\\\\\n",
       "\\end{tabular}\n"
      ],
      "text/markdown": [
       "\n",
       "A tibble: 6 × 5\n",
       "\n",
       "| age &lt;dbl&gt; | balance &lt;dbl&gt; | y &lt;fct&gt; | scaled_age &lt;dbl[,1]&gt; | scaled_balance &lt;dbl[,1]&gt; |\n",
       "|---|---|---|---|---|\n",
       "| 30 | 1787 | no | -1.0561528 |  0.12105847 |\n",
       "| 33 | 4789 | no | -0.7724974 |  1.11852057 |\n",
       "| 35 | 1350 | no | -0.5833937 | -0.02414171 |\n",
       "| 30 | 1476 | no | -1.0561528 |  0.01772379 |\n",
       "| 59 |    0 | no |  1.6858500 | -0.47270062 |\n",
       "| 35 |  747 | no | -0.5833937 | -0.22449803 |\n",
       "\n"
      ],
      "text/plain": [
       "  age balance y  scaled_age scaled_balance\n",
       "1 30  1787    no -1.0561528  0.12105847   \n",
       "2 33  4789    no -0.7724974  1.11852057   \n",
       "3 35  1350    no -0.5833937 -0.02414171   \n",
       "4 30  1476    no -1.0561528  0.01772379   \n",
       "5 59     0    no  1.6858500 -0.47270062   \n",
       "6 35   747    no -0.5833937 -0.22449803   "
      ]
     },
     "metadata": {},
     "output_type": "display_data"
    },
    {
     "data": {
      "text/html": [
       "<table>\n",
       "<caption>A tibble: 6 × 5</caption>\n",
       "<thead>\n",
       "\t<tr><th scope=col>age</th><th scope=col>balance</th><th scope=col>y</th><th scope=col>scaled_age</th><th scope=col>scaled_balance</th></tr>\n",
       "\t<tr><th scope=col>&lt;dbl&gt;</th><th scope=col>&lt;dbl&gt;</th><th scope=col>&lt;fct&gt;</th><th scope=col>&lt;dbl[,1]&gt;</th><th scope=col>&lt;dbl[,1]&gt;</th></tr>\n",
       "</thead>\n",
       "<tbody>\n",
       "\t<tr><td>32</td><td>  473</td><td>no</td><td>-0.8670492</td><td>-0.31553887</td></tr>\n",
       "\t<tr><td>33</td><td> -333</td><td>no</td><td>-0.7724974</td><td>-0.58334515</td></tr>\n",
       "\t<tr><td>57</td><td>-3313</td><td>no</td><td> 1.4967463</td><td>-1.57349741</td></tr>\n",
       "\t<tr><td>57</td><td>  295</td><td>no</td><td> 1.4967463</td><td>-0.37468219</td></tr>\n",
       "\t<tr><td>28</td><td> 1137</td><td>no</td><td>-1.2452565</td><td>-0.09491434</td></tr>\n",
       "\t<tr><td>44</td><td> 1136</td><td>no</td><td> 0.2675727</td><td>-0.09524661</td></tr>\n",
       "</tbody>\n",
       "</table>\n"
      ],
      "text/latex": [
       "A tibble: 6 × 5\n",
       "\\begin{tabular}{lllll}\n",
       " age & balance & y & scaled\\_age & scaled\\_balance\\\\\n",
       " <dbl> & <dbl> & <fct> & <dbl{[},1{]}> & <dbl{[},1{]}>\\\\\n",
       "\\hline\n",
       "\t 32 &   473 & no & -0.8670492 & -0.31553887\\\\\n",
       "\t 33 &  -333 & no & -0.7724974 & -0.58334515\\\\\n",
       "\t 57 & -3313 & no &  1.4967463 & -1.57349741\\\\\n",
       "\t 57 &   295 & no &  1.4967463 & -0.37468219\\\\\n",
       "\t 28 &  1137 & no & -1.2452565 & -0.09491434\\\\\n",
       "\t 44 &  1136 & no &  0.2675727 & -0.09524661\\\\\n",
       "\\end{tabular}\n"
      ],
      "text/markdown": [
       "\n",
       "A tibble: 6 × 5\n",
       "\n",
       "| age &lt;dbl&gt; | balance &lt;dbl&gt; | y &lt;fct&gt; | scaled_age &lt;dbl[,1]&gt; | scaled_balance &lt;dbl[,1]&gt; |\n",
       "|---|---|---|---|---|\n",
       "| 32 |   473 | no | -0.8670492 | -0.31553887 |\n",
       "| 33 |  -333 | no | -0.7724974 | -0.58334515 |\n",
       "| 57 | -3313 | no |  1.4967463 | -1.57349741 |\n",
       "| 57 |   295 | no |  1.4967463 | -0.37468219 |\n",
       "| 28 |  1137 | no | -1.2452565 | -0.09491434 |\n",
       "| 44 |  1136 | no |  0.2675727 | -0.09524661 |\n",
       "\n"
      ],
      "text/plain": [
       "  age balance y  scaled_age scaled_balance\n",
       "1 32    473   no -0.8670492 -0.31553887   \n",
       "2 33   -333   no -0.7724974 -0.58334515   \n",
       "3 57  -3313   no  1.4967463 -1.57349741   \n",
       "4 57    295   no  1.4967463 -0.37468219   \n",
       "5 28   1137   no -1.2452565 -0.09491434   \n",
       "6 44   1136   no  0.2675727 -0.09524661   "
      ]
     },
     "metadata": {},
     "output_type": "display_data"
    }
   ],
   "source": [
    "# We set our seed as 999 throughout the whole project to ensure consistency of our results\n",
    "set.seed(999)\n",
    "\n",
    "# Splitting the data into training data and testing data\n",
    "bank_split <- initial_split(bank_age_balance, prop = 0.75, strata = age)  \n",
    "# We choose 0.75 as the portion of training data because we will perform cross-validation later,\n",
    "# so the training data set cannot be too small. However we also think that the testing on\n",
    "# the accuracy of our model is important, so we believe that 0.75 is an appropriate choise.\n",
    "bank_train <- training(bank_split)   \n",
    "bank_test <- testing(bank_split)\n",
    "\n",
    "# Print the head and tail of the training set\n",
    "head(bank_train)\n",
    "tail(bank_train)"
   ]
  },
  {
   "cell_type": "code",
   "execution_count": 4,
   "metadata": {},
   "outputs": [
    {
     "ename": "ERROR",
     "evalue": "Error in eval(lhs, parent, parent): object 'bank_train' not found\n",
     "output_type": "error",
     "traceback": [
      "Error in eval(lhs, parent, parent): object 'bank_train' not found\nTraceback:\n",
      "1. bank_train %>% ggplot(aes(x = age, y = balance))",
      "2. eval(lhs, parent, parent)",
      "3. eval(lhs, parent, parent)"
     ]
    }
   ],
   "source": [
    "# We first plot a scatterplot on age vs balance and scaled_age vs scaled_balance,\n",
    "# with the factor y colored on every single points.\n",
    "\n",
    "options(repr.plot.width = 20, repr.plot.height = 10) \n",
    "age_vs_balance_plot <- bank_train %>%\n",
    "    ggplot(aes(x = age, y = balance)) +\n",
    "    geom_point(aes(colour = y)) + \n",
    "    labs(x = \"age\", y = \"yearly balance\",\n",
    "        colour = \"subscribed term deposit yes/no\") +\n",
    "    theme(text = element_text(size = 20))\n",
    "age_vs_balance_plot\n",
    "\n",
    "scaled_age_vs_balance_plot <- bank_train %>%\n",
    "    ggplot(aes(x = scaled_age, y = scaled_balance)) +\n",
    "    geom_point(aes(colour = y)) + \n",
    "    labs(x = \"age\", y = \"yearly balance\",\n",
    "        colour = \"subscribed term deposit yes/no\") +\n",
    "    theme(text = element_text(size = 20))\n",
    "scaled_age_vs_balance_plot"
   ]
  },
  {
   "cell_type": "code",
   "execution_count": 35,
   "metadata": {},
   "outputs": [
    {
     "data": {
      "text/plain": [
       "Data Recipe\n",
       "\n",
       "Inputs:\n",
       "\n",
       "      role #variables\n",
       "   outcome          1\n",
       " predictor          2\n",
       "\n",
       "Operations:\n",
       "\n",
       "Scaling for all_predictors()\n",
       "Centering for all_predictors()"
      ]
     },
     "metadata": {},
     "output_type": "display_data"
    }
   ],
   "source": [
    "# Create a recipe of using scaled_age and scaled_balance to predict y\n",
    "\n",
    "bank_recipe <- recipe(y ~ scaled_age + scaled_balance, data = bank_train) %>%\n",
    "    step_scale(all_predictors()) %>%\n",
    "    step_center(all_predictors())\n",
    "bank_recipe"
   ]
  },
  {
   "cell_type": "code",
   "execution_count": 38,
   "metadata": {},
   "outputs": [
    {
     "data": {
      "text/plain": [
       "══ Workflow [trained] ══════════════════════════════════════════════════════════\n",
       "\u001b[3mPreprocessor:\u001b[23m Recipe\n",
       "\u001b[3mModel:\u001b[23m nearest_neighbor()\n",
       "\n",
       "── Preprocessor ────────────────────────────────────────────────────────────────\n",
       "2 Recipe Steps\n",
       "\n",
       "● step_scale()\n",
       "● step_center()\n",
       "\n",
       "── Model ───────────────────────────────────────────────────────────────────────\n",
       "\n",
       "Call:\n",
       "kknn::train.kknn(formula = ..y ~ ., data = data, ks = ~10, kernel = ~\"rectangular\")\n",
       "\n",
       "Type of response variable: nominal\n",
       "Minimal misclassification: 0.1149764\n",
       "Best kernel: rectangular\n",
       "Best k: 10"
      ]
     },
     "metadata": {},
     "output_type": "display_data"
    }
   ],
   "source": [
    "# We create our K-nearest neighbour classifier with the training set.\n",
    "# Here we first randomly choose K=10 and run the process to make sure\n",
    "# nothing is broken; we will perform cross-validation later and choose\n",
    "# a better K value.\n",
    "\n",
    "knn_spec <- nearest_neighbor(weight_func = \"rectangular\", neighbors = 10) %>%\n",
    "    set_engine(\"kknn\") %>%\n",
    "    set_mode(\"classification\")\n",
    "\n",
    "bank_fit <- workflow() %>%\n",
    "    add_recipe(bank_recipe) %>%\n",
    "    add_model(knn_spec) %>%\n",
    "    fit(data = bank_train)\n",
    "\n",
    "bank_fit"
   ]
  },
  {
   "cell_type": "code",
   "execution_count": 41,
   "metadata": {},
   "outputs": [
    {
     "data": {
      "text/html": [
       "<table>\n",
       "<caption>A tibble: 6 × 6</caption>\n",
       "<thead>\n",
       "\t<tr><th scope=col>.pred_class</th><th scope=col>age</th><th scope=col>balance</th><th scope=col>y</th><th scope=col>scaled_age</th><th scope=col>scaled_balance</th></tr>\n",
       "\t<tr><th scope=col>&lt;fct&gt;</th><th scope=col>&lt;dbl&gt;</th><th scope=col>&lt;dbl&gt;</th><th scope=col>&lt;fct&gt;</th><th scope=col>&lt;dbl[,1]&gt;</th><th scope=col>&lt;dbl[,1]&gt;</th></tr>\n",
       "</thead>\n",
       "<tbody>\n",
       "\t<tr><td>no</td><td>39</td><td> 147</td><td>no</td><td>-0.2051864</td><td>-0.4238575</td></tr>\n",
       "\t<tr><td>no</td><td>43</td><td> -88</td><td>no</td><td> 0.1730208</td><td>-0.5019400</td></tr>\n",
       "\t<tr><td>no</td><td>36</td><td>1109</td><td>no</td><td>-0.4888419</td><td>-0.1042178</td></tr>\n",
       "\t<tr><td>no</td><td>37</td><td>2317</td><td>no</td><td>-0.3942901</td><td> 0.2971594</td></tr>\n",
       "\t<tr><td>no</td><td>25</td><td>-221</td><td>no</td><td>-1.5289119</td><td>-0.5461314</td></tr>\n",
       "\t<tr><td>no</td><td>31</td><td> 132</td><td>no</td><td>-0.9616010</td><td>-0.4288415</td></tr>\n",
       "</tbody>\n",
       "</table>\n"
      ],
      "text/latex": [
       "A tibble: 6 × 6\n",
       "\\begin{tabular}{llllll}\n",
       " .pred\\_class & age & balance & y & scaled\\_age & scaled\\_balance\\\\\n",
       " <fct> & <dbl> & <dbl> & <fct> & <dbl{[},1{]}> & <dbl{[},1{]}>\\\\\n",
       "\\hline\n",
       "\t no & 39 &  147 & no & -0.2051864 & -0.4238575\\\\\n",
       "\t no & 43 &  -88 & no &  0.1730208 & -0.5019400\\\\\n",
       "\t no & 36 & 1109 & no & -0.4888419 & -0.1042178\\\\\n",
       "\t no & 37 & 2317 & no & -0.3942901 &  0.2971594\\\\\n",
       "\t no & 25 & -221 & no & -1.5289119 & -0.5461314\\\\\n",
       "\t no & 31 &  132 & no & -0.9616010 & -0.4288415\\\\\n",
       "\\end{tabular}\n"
      ],
      "text/markdown": [
       "\n",
       "A tibble: 6 × 6\n",
       "\n",
       "| .pred_class &lt;fct&gt; | age &lt;dbl&gt; | balance &lt;dbl&gt; | y &lt;fct&gt; | scaled_age &lt;dbl[,1]&gt; | scaled_balance &lt;dbl[,1]&gt; |\n",
       "|---|---|---|---|---|---|\n",
       "| no | 39 |  147 | no | -0.2051864 | -0.4238575 |\n",
       "| no | 43 |  -88 | no |  0.1730208 | -0.5019400 |\n",
       "| no | 36 | 1109 | no | -0.4888419 | -0.1042178 |\n",
       "| no | 37 | 2317 | no | -0.3942901 |  0.2971594 |\n",
       "| no | 25 | -221 | no | -1.5289119 | -0.5461314 |\n",
       "| no | 31 |  132 | no | -0.9616010 | -0.4288415 |\n",
       "\n"
      ],
      "text/plain": [
       "  .pred_class age balance y  scaled_age scaled_balance\n",
       "1 no          39   147    no -0.2051864 -0.4238575    \n",
       "2 no          43   -88    no  0.1730208 -0.5019400    \n",
       "3 no          36  1109    no -0.4888419 -0.1042178    \n",
       "4 no          37  2317    no -0.3942901  0.2971594    \n",
       "5 no          25  -221    no -1.5289119 -0.5461314    \n",
       "6 no          31   132    no -0.9616010 -0.4288415    "
      ]
     },
     "metadata": {},
     "output_type": "display_data"
    },
    {
     "data": {
      "text/html": [
       "<table>\n",
       "<caption>A tibble: 2 × 3</caption>\n",
       "<thead>\n",
       "\t<tr><th scope=col>.metric</th><th scope=col>.estimator</th><th scope=col>.estimate</th></tr>\n",
       "\t<tr><th scope=col>&lt;chr&gt;</th><th scope=col>&lt;chr&gt;</th><th scope=col>&lt;dbl&gt;</th></tr>\n",
       "</thead>\n",
       "<tbody>\n",
       "\t<tr><td>accuracy</td><td>binary</td><td>0.88219663</td></tr>\n",
       "\t<tr><td>kap     </td><td>binary</td><td>0.02084081</td></tr>\n",
       "</tbody>\n",
       "</table>\n"
      ],
      "text/latex": [
       "A tibble: 2 × 3\n",
       "\\begin{tabular}{lll}\n",
       " .metric & .estimator & .estimate\\\\\n",
       " <chr> & <chr> & <dbl>\\\\\n",
       "\\hline\n",
       "\t accuracy & binary & 0.88219663\\\\\n",
       "\t kap      & binary & 0.02084081\\\\\n",
       "\\end{tabular}\n"
      ],
      "text/markdown": [
       "\n",
       "A tibble: 2 × 3\n",
       "\n",
       "| .metric &lt;chr&gt; | .estimator &lt;chr&gt; | .estimate &lt;dbl&gt; |\n",
       "|---|---|---|\n",
       "| accuracy | binary | 0.88219663 |\n",
       "| kap      | binary | 0.02084081 |\n",
       "\n"
      ],
      "text/plain": [
       "  .metric  .estimator .estimate \n",
       "1 accuracy binary     0.88219663\n",
       "2 kap      binary     0.02084081"
      ]
     },
     "metadata": {},
     "output_type": "display_data"
    }
   ],
   "source": [
    "# We predict y for the testing set using our model of K=10\n",
    "bank_test_predictions <- predict(bank_fit, bank_test) %>%\n",
    "    bind_cols(bank_test)\n",
    "head(bank_test_predictions)\n",
    "\n",
    "# We calculate the accuracy of the model K=10, and the accuracy is 88.2%\n",
    "bank_prediction_accuracy <- bank_test_predictions %>%\n",
    "    metrics(truth = y, estimate = .pred_class)\n",
    "bank_prediction_accuracy"
   ]
  },
  {
   "cell_type": "code",
   "execution_count": 55,
   "metadata": {},
   "outputs": [
    {
     "data": {
      "text/plain": [
       "K-Nearest Neighbor Model Specification (classification)\n",
       "\n",
       "Main Arguments:\n",
       "  neighbors = tune()\n",
       "  weight_func = rectangular\n",
       "\n",
       "Computational engine: kknn \n"
      ]
     },
     "metadata": {},
     "output_type": "display_data"
    },
    {
     "data": {
      "text/html": [
       "<table>\n",
       "<caption>A tibble: 6 × 7</caption>\n",
       "<thead>\n",
       "\t<tr><th scope=col>neighbors</th><th scope=col>.metric</th><th scope=col>.estimator</th><th scope=col>mean</th><th scope=col>n</th><th scope=col>std_err</th><th scope=col>.config</th></tr>\n",
       "\t<tr><th scope=col>&lt;int&gt;</th><th scope=col>&lt;chr&gt;</th><th scope=col>&lt;chr&gt;</th><th scope=col>&lt;dbl&gt;</th><th scope=col>&lt;int&gt;</th><th scope=col>&lt;dbl&gt;</th><th scope=col>&lt;chr&gt;</th></tr>\n",
       "</thead>\n",
       "<tbody>\n",
       "\t<tr><td>2</td><td>accuracy</td><td>binary</td><td>0.8054395</td><td>5</td><td>0.007467303</td><td>Model1</td></tr>\n",
       "\t<tr><td>2</td><td>roc_auc </td><td>binary</td><td>0.5363620</td><td>5</td><td>0.010024752</td><td>Model1</td></tr>\n",
       "\t<tr><td>3</td><td>accuracy</td><td>binary</td><td>0.8576058</td><td>5</td><td>0.001005625</td><td>Model2</td></tr>\n",
       "\t<tr><td>3</td><td>roc_auc </td><td>binary</td><td>0.5417167</td><td>5</td><td>0.014828621</td><td>Model2</td></tr>\n",
       "\t<tr><td>4</td><td>accuracy</td><td>binary</td><td>0.8567205</td><td>5</td><td>0.002073287</td><td>Model3</td></tr>\n",
       "\t<tr><td>4</td><td>roc_auc </td><td>binary</td><td>0.5368334</td><td>5</td><td>0.015838689</td><td>Model3</td></tr>\n",
       "</tbody>\n",
       "</table>\n"
      ],
      "text/latex": [
       "A tibble: 6 × 7\n",
       "\\begin{tabular}{lllllll}\n",
       " neighbors & .metric & .estimator & mean & n & std\\_err & .config\\\\\n",
       " <int> & <chr> & <chr> & <dbl> & <int> & <dbl> & <chr>\\\\\n",
       "\\hline\n",
       "\t 2 & accuracy & binary & 0.8054395 & 5 & 0.007467303 & Model1\\\\\n",
       "\t 2 & roc\\_auc  & binary & 0.5363620 & 5 & 0.010024752 & Model1\\\\\n",
       "\t 3 & accuracy & binary & 0.8576058 & 5 & 0.001005625 & Model2\\\\\n",
       "\t 3 & roc\\_auc  & binary & 0.5417167 & 5 & 0.014828621 & Model2\\\\\n",
       "\t 4 & accuracy & binary & 0.8567205 & 5 & 0.002073287 & Model3\\\\\n",
       "\t 4 & roc\\_auc  & binary & 0.5368334 & 5 & 0.015838689 & Model3\\\\\n",
       "\\end{tabular}\n"
      ],
      "text/markdown": [
       "\n",
       "A tibble: 6 × 7\n",
       "\n",
       "| neighbors &lt;int&gt; | .metric &lt;chr&gt; | .estimator &lt;chr&gt; | mean &lt;dbl&gt; | n &lt;int&gt; | std_err &lt;dbl&gt; | .config &lt;chr&gt; |\n",
       "|---|---|---|---|---|---|---|\n",
       "| 2 | accuracy | binary | 0.8054395 | 5 | 0.007467303 | Model1 |\n",
       "| 2 | roc_auc  | binary | 0.5363620 | 5 | 0.010024752 | Model1 |\n",
       "| 3 | accuracy | binary | 0.8576058 | 5 | 0.001005625 | Model2 |\n",
       "| 3 | roc_auc  | binary | 0.5417167 | 5 | 0.014828621 | Model2 |\n",
       "| 4 | accuracy | binary | 0.8567205 | 5 | 0.002073287 | Model3 |\n",
       "| 4 | roc_auc  | binary | 0.5368334 | 5 | 0.015838689 | Model3 |\n",
       "\n"
      ],
      "text/plain": [
       "  neighbors .metric  .estimator mean      n std_err     .config\n",
       "1 2         accuracy binary     0.8054395 5 0.007467303 Model1 \n",
       "2 2         roc_auc  binary     0.5363620 5 0.010024752 Model1 \n",
       "3 3         accuracy binary     0.8576058 5 0.001005625 Model2 \n",
       "4 3         roc_auc  binary     0.5417167 5 0.014828621 Model2 \n",
       "5 4         accuracy binary     0.8567205 5 0.002073287 Model3 \n",
       "6 4         roc_auc  binary     0.5368334 5 0.015838689 Model3 "
      ]
     },
     "metadata": {},
     "output_type": "display_data"
    }
   ],
   "source": [
    "# We would like to choose a better K value for our K-neighbour classification model,\n",
    "# so we perform the cross-validation method on our training set.\n",
    "# We choose to perform 5-fold cross-validation because 10-fold is too time consuming.\n",
    "bank_vfold <- vfold_cv(bank_train, v = 5, strata = y)\n",
    "\n",
    "# Instead of specifying a specific K value we insert tune() to keep it as a changing parameter\n",
    "knn_tune <- nearest_neighbor(weight_func = \"rectangular\", neighbors = tune()) %>%\n",
    "    set_engine(\"kknn\") %>%\n",
    "    set_mode(\"classification\")\n",
    "knn_tune\n",
    "\n",
    "# Here we perform the workflow again with cross-validation method to calculate an accuracy for\n",
    "# each K value in a reasonable range, and we pick the K value that gives best accuracy\n",
    "knn_results <- workflow() %>%\n",
    "      add_recipe(bank_recipe) %>%\n",
    "      add_model(knn_tune) %>%\n",
    "      tune_grid(resamples = bank_vfold, grid = 10) %>%\n",
    "      collect_metrics()\n",
    "head(knn_results)"
   ]
  },
  {
   "cell_type": "code",
   "execution_count": 54,
   "metadata": {},
   "outputs": [
    {
     "data": {
      "image/png": "[encoded data removed]",
      "text/plain": [
       "plot without title"
      ]
     },
     "metadata": {
      "image/png": {
       "height": 600,
       "width": 1200
      }
     },
     "output_type": "display_data"
    }
   ],
   "source": [
    "# Filter the accuracy from the .metric column\n",
    "accuracies <- knn_results %>% \n",
    "      filter(.metric==\"accuracy\")\n",
    "\n",
    "# Create a plot using the accuracies dataset with K value on the x-axis and estimated accuracy on the y-axis\n",
    "options(repr.plot.width = 20, repr.plot.height = 10) \n",
    "accuracy_versus_k <- ggplot(accuracies, aes(x = neighbors, y = mean))+\n",
    "      geom_point() +\n",
    "      geom_line() +\n",
    "      labs(x = \"Neighbors\", y = \"Accuracy Estimate\") +\n",
    "      scale_x_continuous(breaks = seq(0, 14, by = 1)) +  # adjusting the x-axis\n",
    "      scale_y_continuous(limits = c(0.8, 0.9)) # adjusting the y-axis\n",
    "\n",
    "accuracy_versus_k"
   ]
  },
  {
   "cell_type": "code",
   "execution_count": 56,
   "metadata": {},
   "outputs": [
    {
     "data": {
      "text/html": [
       "<table>\n",
       "<caption>A tibble: 6 × 6</caption>\n",
       "<thead>\n",
       "\t<tr><th scope=col>.pred_class</th><th scope=col>age</th><th scope=col>balance</th><th scope=col>y</th><th scope=col>scaled_age</th><th scope=col>scaled_balance</th></tr>\n",
       "\t<tr><th scope=col>&lt;fct&gt;</th><th scope=col>&lt;dbl&gt;</th><th scope=col>&lt;dbl&gt;</th><th scope=col>&lt;fct&gt;</th><th scope=col>&lt;dbl[,1]&gt;</th><th scope=col>&lt;dbl[,1]&gt;</th></tr>\n",
       "</thead>\n",
       "<tbody>\n",
       "\t<tr><td>no</td><td>39</td><td> 147</td><td>no</td><td>-0.2051864</td><td>-0.4238575</td></tr>\n",
       "\t<tr><td>no</td><td>43</td><td> -88</td><td>no</td><td> 0.1730208</td><td>-0.5019400</td></tr>\n",
       "\t<tr><td>no</td><td>36</td><td>1109</td><td>no</td><td>-0.4888419</td><td>-0.1042178</td></tr>\n",
       "\t<tr><td>no</td><td>37</td><td>2317</td><td>no</td><td>-0.3942901</td><td> 0.2971594</td></tr>\n",
       "\t<tr><td>no</td><td>25</td><td>-221</td><td>no</td><td>-1.5289119</td><td>-0.5461314</td></tr>\n",
       "\t<tr><td>no</td><td>31</td><td> 132</td><td>no</td><td>-0.9616010</td><td>-0.4288415</td></tr>\n",
       "</tbody>\n",
       "</table>\n"
      ],
      "text/latex": [
       "A tibble: 6 × 6\n",
       "\\begin{tabular}{llllll}\n",
       " .pred\\_class & age & balance & y & scaled\\_age & scaled\\_balance\\\\\n",
       " <fct> & <dbl> & <dbl> & <fct> & <dbl{[},1{]}> & <dbl{[},1{]}>\\\\\n",
       "\\hline\n",
       "\t no & 39 &  147 & no & -0.2051864 & -0.4238575\\\\\n",
       "\t no & 43 &  -88 & no &  0.1730208 & -0.5019400\\\\\n",
       "\t no & 36 & 1109 & no & -0.4888419 & -0.1042178\\\\\n",
       "\t no & 37 & 2317 & no & -0.3942901 &  0.2971594\\\\\n",
       "\t no & 25 & -221 & no & -1.5289119 & -0.5461314\\\\\n",
       "\t no & 31 &  132 & no & -0.9616010 & -0.4288415\\\\\n",
       "\\end{tabular}\n"
      ],
      "text/markdown": [
       "\n",
       "A tibble: 6 × 6\n",
       "\n",
       "| .pred_class &lt;fct&gt; | age &lt;dbl&gt; | balance &lt;dbl&gt; | y &lt;fct&gt; | scaled_age &lt;dbl[,1]&gt; | scaled_balance &lt;dbl[,1]&gt; |\n",
       "|---|---|---|---|---|---|\n",
       "| no | 39 |  147 | no | -0.2051864 | -0.4238575 |\n",
       "| no | 43 |  -88 | no |  0.1730208 | -0.5019400 |\n",
       "| no | 36 | 1109 | no | -0.4888419 | -0.1042178 |\n",
       "| no | 37 | 2317 | no | -0.3942901 |  0.2971594 |\n",
       "| no | 25 | -221 | no | -1.5289119 | -0.5461314 |\n",
       "| no | 31 |  132 | no | -0.9616010 | -0.4288415 |\n",
       "\n"
      ],
      "text/plain": [
       "  .pred_class age balance y  scaled_age scaled_balance\n",
       "1 no          39   147    no -0.2051864 -0.4238575    \n",
       "2 no          43   -88    no  0.1730208 -0.5019400    \n",
       "3 no          36  1109    no -0.4888419 -0.1042178    \n",
       "4 no          37  2317    no -0.3942901  0.2971594    \n",
       "5 no          25  -221    no -1.5289119 -0.5461314    \n",
       "6 no          31   132    no -0.9616010 -0.4288415    "
      ]
     },
     "metadata": {},
     "output_type": "display_data"
    },
    {
     "data": {
      "text/html": [
       "<table>\n",
       "<caption>A tibble: 2 × 3</caption>\n",
       "<thead>\n",
       "\t<tr><th scope=col>.metric</th><th scope=col>.estimator</th><th scope=col>.estimate</th></tr>\n",
       "\t<tr><th scope=col>&lt;chr&gt;</th><th scope=col>&lt;chr&gt;</th><th scope=col>&lt;dbl&gt;</th></tr>\n",
       "</thead>\n",
       "<tbody>\n",
       "\t<tr><td>accuracy</td><td>binary</td><td>0.88396811</td></tr>\n",
       "\t<tr><td>kap     </td><td>binary</td><td>0.01330282</td></tr>\n",
       "</tbody>\n",
       "</table>\n"
      ],
      "text/latex": [
       "A tibble: 2 × 3\n",
       "\\begin{tabular}{lll}\n",
       " .metric & .estimator & .estimate\\\\\n",
       " <chr> & <chr> & <dbl>\\\\\n",
       "\\hline\n",
       "\t accuracy & binary & 0.88396811\\\\\n",
       "\t kap      & binary & 0.01330282\\\\\n",
       "\\end{tabular}\n"
      ],
      "text/markdown": [
       "\n",
       "A tibble: 2 × 3\n",
       "\n",
       "| .metric &lt;chr&gt; | .estimator &lt;chr&gt; | .estimate &lt;dbl&gt; |\n",
       "|---|---|---|\n",
       "| accuracy | binary | 0.88396811 |\n",
       "| kap      | binary | 0.01330282 |\n",
       "\n"
      ],
      "text/plain": [
       "  .metric  .estimator .estimate \n",
       "1 accuracy binary     0.88396811\n",
       "2 kap      binary     0.01330282"
      ]
     },
     "metadata": {},
     "output_type": "display_data"
    }
   ],
   "source": [
    "# From the graph above, K=12 gives the best accuracy, so we perform the whole K-neighbours classification process with K=12\n",
    "\n",
    "knn_spec <- nearest_neighbor(weight_func = \"rectangular\", neighbors = 12) %>%\n",
    "    set_engine(\"kknn\") %>%\n",
    "    set_mode(\"classification\")\n",
    "\n",
    "bank_fit <- workflow() %>%\n",
    "    add_recipe(bank_recipe) %>%\n",
    "    add_model(knn_spec) %>%\n",
    "    fit(data = bank_train)\n",
    "\n",
    "bank_test_predictions <- predict(bank_fit, bank_test) %>%\n",
    "    bind_cols(bank_test)\n",
    "head(bank_test_predictions)\n",
    "\n",
    "bank_prediction_accuracy <- bank_test_predictions %>%\n",
    "    metrics(truth = y, estimate = .pred_class)\n",
    "bank_prediction_accuracy\n",
    "\n",
    "# From bank_prediction_accuracy, our model of using age and balance to predict y have accuracy of 88.4%"
   ]
  },
  {
   "cell_type": "markdown",
   "metadata": {},
   "source": [
    "For our project we intend to plot multiple different variables in order to determine which variables are best suited to determine if someone will subscribe to a bank term deposit. The best variables will be chosen based on the relationship demonstrated on the graph. For instance, if there is a strong positive relationship on the plot then that would signify that the variable is a strong indicator of whether or not someone will subscribe to a bank term deposit. On the other hand, if there is a weak or negative relationship, then that would indicate that the variable is not suitable to determine whether or not someone will subscribe to a bank term deposit."
   ]
  },
  {
   "cell_type": "markdown",
   "metadata": {},
   "source": [
    "**Expected Outcomes & Significance**\\\n",
    "----What do you expect to find\\\n",
    "--------Use the variables we chose to predict whether a client will subscribe to a term deposit, and therefore find which variable influenced the will of a client on subscribing a term deposit the most. After finishing the model we will check our predictions with the real data to see how accurate our predictions are.\\\n",
    "----What impact will your findings have\\\n",
    "--------We can use this data to predict groups who are more interested in the bank promotion. So we can target them when the bank decides to do marketing strategy.\\\n",
    "----What future questions could this lead to\\\n",
    "--------Are there any other predicates to add for choosing the strategy?\\\n",
    "--------Some of predicates will disturb this data results\\\n",
    "--------How do different variables intersect with one another to impact whether or not someone will subscribe to a bank deposit\\\n",
    "--------Is there a better model to predict this data?"
   ]
  }
 ],
 "metadata": {
  "kernelspec": {
   "display_name": "R",
   "language": "R",
   "name": "ir"
  },
  "language_info": {
   "codemirror_mode": "r",
   "file_extension": ".r",
   "mimetype": "text/x-r-source",
   "name": "R",
   "pygments_lexer": "r",
   "version": "4.0.0"
  }
 },
 "nbformat": 4,
 "nbformat_minor": 4
}
